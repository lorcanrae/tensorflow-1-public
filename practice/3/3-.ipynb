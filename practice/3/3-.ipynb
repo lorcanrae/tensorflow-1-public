{
 "cells": [
  {
   "cell_type": "code",
   "execution_count": 7,
   "id": "8aaaa585-0979-40a9-acb0-0fd89c9633ea",
   "metadata": {},
   "outputs": [],
   "source": [
    "import urllib\n",
    "import tensorflow as tf\n",
    "from tensorflow.keras.preprocessing.image import ImageDataGenerator\n",
    "import numpy as np\n",
    "import zipfile\n",
    "import os"
   ]
  },
  {
   "cell_type": "code",
   "execution_count": null,
   "id": "bba1ef1d-d858-45c8-a353-f67cce2e3d18",
   "metadata": {},
   "outputs": [],
   "source": []
  },
  {
   "cell_type": "code",
   "execution_count": null,
   "id": "3edc20c6-6f6f-4663-8e44-d3f6126fe42b",
   "metadata": {},
   "outputs": [],
   "source": []
  },
  {
   "cell_type": "code",
   "execution_count": 6,
   "id": "6b0920f9-a6f5-4944-9404-6e289f098648",
   "metadata": {},
   "outputs": [],
   "source": [
    "url = 'https://storage.googleapis.com/download.tensorflow.org/data/rps.zip'\n",
    "urllib.request.urlretrieve(url, 'rps.zip')\n",
    "local_zip = 'rps.zip'\n",
    "zip_ref = zipfile.ZipFile(local_zip, 'r')\n",
    "zip_ref.extractall('tmp/')\n",
    "zip_ref.close()"
   ]
  },
  {
   "cell_type": "code",
   "execution_count": 9,
   "id": "3ff6e2d4-bb0c-410d-8cef-33d45339cc46",
   "metadata": {},
   "outputs": [
    {
     "name": "stdout",
     "output_type": "stream",
     "text": [
      "840\n",
      "840\n",
      "840\n"
     ]
    }
   ],
   "source": [
    "PAPER_SOURCE_DIR = \"tmp/rps/paper/\"\n",
    "ROCK_SOURCE_DIR = \"tmp/rps/rock/\"\n",
    "SCISSORS_SOURCE_DIR = \"tmp/rps/scissors/\"\n",
    "\n",
    "print(len(os.listdir(PAPER_SOURCE_DIR)))\n",
    "print(len(os.listdir(ROCK_SOURCE_DIR)))\n",
    "print(len(os.listdir(SCISSORS_SOURCE_DIR)))"
   ]
  },
  {
   "cell_type": "code",
   "execution_count": 10,
   "id": "ad364ed8-c9f1-40fb-8600-eed3be606925",
   "metadata": {},
   "outputs": [
    {
     "data": {
      "text/plain": [
       "2520"
      ]
     },
     "execution_count": 10,
     "metadata": {},
     "output_type": "execute_result"
    }
   ],
   "source": [
    "840 * 3"
   ]
  },
  {
   "cell_type": "code",
   "execution_count": null,
   "id": "bd405d27-6a9a-4b95-8ca0-35f567f7d60f",
   "metadata": {},
   "outputs": [],
   "source": []
  }
 ],
 "metadata": {
  "kernelspec": {
   "display_name": "Python 3 (ipykernel)",
   "language": "python",
   "name": "python3"
  },
  "language_info": {
   "codemirror_mode": {
    "name": "ipython",
    "version": 3
   },
   "file_extension": ".py",
   "mimetype": "text/x-python",
   "name": "python",
   "nbconvert_exporter": "python",
   "pygments_lexer": "ipython3",
   "version": "3.8.12"
  }
 },
 "nbformat": 4,
 "nbformat_minor": 5
}
