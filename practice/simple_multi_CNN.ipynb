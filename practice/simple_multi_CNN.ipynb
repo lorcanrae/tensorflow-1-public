{
 "cells": [
  {
   "cell_type": "markdown",
   "id": "d5834070-ef03-4fce-9115-625d4eb8dbba",
   "metadata": {},
   "source": [
    "# imports"
   ]
  },
  {
   "cell_type": "code",
   "execution_count": 1,
   "id": "53254a17-85e3-4ae9-9a49-9333dce4950c",
   "metadata": {},
   "outputs": [
    {
     "name": "stderr",
     "output_type": "stream",
     "text": [
      "2022-09-09 16:44:54.549371: W tensorflow/stream_executor/platform/default/dso_loader.cc:64] Could not load dynamic library 'libcudart.so.11.0'; dlerror: libcudart.so.11.0: cannot open shared object file: No such file or directory\n",
      "2022-09-09 16:44:54.549396: I tensorflow/stream_executor/cuda/cudart_stub.cc:29] Ignore above cudart dlerror if you do not have a GPU set up on your machine.\n",
      "/home/lscr/.pyenv/versions/3.8.12/envs/tfdc/lib/python3.8/site-packages/tqdm/auto.py:22: TqdmWarning: IProgress not found. Please update jupyter and ipywidgets. See https://ipywidgets.readthedocs.io/en/stable/user_install.html\n",
      "  from .autonotebook import tqdm as notebook_tqdm\n"
     ]
    }
   ],
   "source": [
    "import numpy as np\n",
    "import tensorflow as tf\n",
    "from tensorflow import keras\n",
    "import tensorflow_datasets as tfds\n",
    "import matplotlib.pyplot as plt"
   ]
  },
  {
   "cell_type": "code",
   "execution_count": 2,
   "id": "55b81c71-6ef2-462b-9a29-f088fd245e45",
   "metadata": {},
   "outputs": [
    {
     "name": "stdout",
     "output_type": "stream",
     "text": [
      "WARNING:tensorflow:From /home/lscr/.pyenv/versions/3.8.12/envs/tfdc/lib/python3.8/site-packages/tensorflow_datasets/core/dataset_builder.py:598: get_single_element (from tensorflow.python.data.experimental.ops.get_single_element) is deprecated and will be removed in a future version.\n",
      "Instructions for updating:\n",
      "Use `tf.data.Dataset.get_single_element()`.\n"
     ]
    },
    {
     "name": "stderr",
     "output_type": "stream",
     "text": [
      "2022-09-09 16:44:58.287398: W tensorflow/stream_executor/platform/default/dso_loader.cc:64] Could not load dynamic library 'libcuda.so.1'; dlerror: libcuda.so.1: cannot open shared object file: No such file or directory\n",
      "2022-09-09 16:44:58.288968: W tensorflow/stream_executor/cuda/cuda_driver.cc:269] failed call to cuInit: UNKNOWN ERROR (303)\n",
      "2022-09-09 16:44:58.289010: I tensorflow/stream_executor/cuda/cuda_diagnostics.cc:156] kernel driver does not appear to be running on this host (lscr): /proc/driver/nvidia/version does not exist\n",
      "2022-09-09 16:44:58.290261: I tensorflow/core/platform/cpu_feature_guard.cc:151] This TensorFlow binary is optimized with oneAPI Deep Neural Network Library (oneDNN) to use the following CPU instructions in performance-critical operations:  AVX2 AVX512F FMA\n",
      "To enable them in other operations, rebuild TensorFlow with the appropriate compiler flags.\n",
      "WARNING:tensorflow:From /home/lscr/.pyenv/versions/3.8.12/envs/tfdc/lib/python3.8/site-packages/tensorflow_datasets/core/dataset_builder.py:598: get_single_element (from tensorflow.python.data.experimental.ops.get_single_element) is deprecated and will be removed in a future version.\n",
      "Instructions for updating:\n",
      "Use `tf.data.Dataset.get_single_element()`.\n"
     ]
    }
   ],
   "source": [
    "train, val = tfds.load(name='mnist', split=['train', 'test'], as_supervised=True, batch_size=-1)"
   ]
  },
  {
   "cell_type": "code",
   "execution_count": 3,
   "id": "118caa4d-582b-41bc-b8b3-7ee286631daa",
   "metadata": {},
   "outputs": [
    {
     "data": {
      "text/plain": [
       "((60000, 28, 28, 1), (60000,), (10000, 28, 28, 1), (10000,))"
      ]
     },
     "execution_count": 3,
     "metadata": {},
     "output_type": "execute_result"
    }
   ],
   "source": [
    "train_images, train_labels = tfds.as_numpy(train)\n",
    "val_images, val_labels = tfds.as_numpy(val)\n",
    "\n",
    "train_images.shape, train_labels.shape, val_images.shape, val_labels.shape"
   ]
  },
  {
   "cell_type": "code",
   "execution_count": 4,
   "id": "955c73e3-798b-43e3-8d2a-8cbcc578a574",
   "metadata": {},
   "outputs": [
    {
     "data": {
      "text/plain": [
       "(10, 10)"
      ]
     },
     "execution_count": 4,
     "metadata": {},
     "output_type": "execute_result"
    }
   ],
   "source": [
    "len(np.unique(train_labels)), len(np.unique(val_labels))"
   ]
  },
  {
   "cell_type": "code",
   "execution_count": 5,
   "id": "df7bd533-b1d9-4efe-a18c-c6fa91c8b032",
   "metadata": {},
   "outputs": [
    {
     "data": {
      "text/plain": [
       "<matplotlib.image.AxesImage at 0x7f4bc6fc9eb0>"
      ]
     },
     "execution_count": 5,
     "metadata": {},
     "output_type": "execute_result"
    },
    {
     "data": {
      "image/png": "[encoded data removed]",
      "text/plain": [
       "<Figure size 640x480 with 1 Axes>"
      ]
     },
     "metadata": {},
     "output_type": "display_data"
    }
   ],
   "source": [
    "plt.imshow(tf.squeeze(train_images[0]), cmap='gray')"
   ]
  },
  {
   "cell_type": "markdown",
   "id": "a44df690-1813-4292-9ffc-e6e8c5675c2f",
   "metadata": {},
   "source": [
    "# Params"
   ]
  },
  {
   "cell_type": "code",
   "execution_count": 6,
   "id": "16a6628c-924a-44b4-b9e7-026ed883121e",
   "metadata": {},
   "outputs": [],
   "source": [
    "NUM_CLASSES = len(np.unique(train_labels))\n",
    "\n",
    "N_TRAIN_SAMPLES = train_images.shape[0]\n",
    "N_VAL_SAMPLES = val_images.shape[0]\n",
    "\n",
    "TRAIN_BATCH_SIZE = 32\n",
    "VAL_BATCH_SIZE = 32\n",
    "\n",
    "TRAIN_STEPS = int(N_TRAIN_SAMPLES / TRAIN_BATCH_SIZE)\n",
    "VAL_STEPS = int(N_VAL_SAMPLES / VAL_BATCH_SIZE)"
   ]
  },
  {
   "cell_type": "markdown",
   "id": "7d6da850-9818-482f-b55d-905ef8e088d1",
   "metadata": {},
   "source": [
    "# ImageDataGenerator"
   ]
  },
  {
   "cell_type": "code",
   "execution_count": 54,
   "id": "31cc289b-7b2f-479d-a61b-62f6ae7b18c0",
   "metadata": {},
   "outputs": [],
   "source": [
    "train_datagen = tf.keras.preprocessing.image.ImageDataGenerator(rescale= 1 / 255.) # AUGMENT HERE\n",
    "train_generator = train_datagen.flow(x=train_images, y=train_labels, batch_size=TRAIN_BATCH_SIZE)\n",
    "\n",
    "val_datagen = tf.keras.preprocessing.image.ImageDataGenerator(rescale=1/255.)\n",
    "val_generator = val_datagen.flow(x=val_images, y=val_labels, batch_size=VAL_BATCH_SIZE_SIZE)"
   ]
  },
  {
   "cell_type": "markdown",
   "id": "bd2051ca-8508-40f5-bc54-f2b8b3511e8c",
   "metadata": {},
   "source": [
    "# Callbacks"
   ]
  },
  {
   "cell_type": "code",
   "execution_count": 76,
   "id": "781b2d34-cb2e-49b4-9a8a-e09120fe57ca",
   "metadata": {},
   "outputs": [],
   "source": [
    "# Basic ES\n",
    "es = tf.keras.callbacks.EarlyStopping(patience=3, restore_best_weights=True)"
   ]
  },
  {
   "cell_type": "code",
   "execution_count": 71,
   "id": "51246b94-6c21-4d47-93aa-f460ba89f2fb",
   "metadata": {},
   "outputs": [],
   "source": [
    "des_train_acc = 0.99\n",
    "des_val_acc = 0.95\n",
    "# Custom ES\n",
    "class MyEarlyStopping(tf.keras.callbacks.Callback):\n",
    "    def on_epoch_end(self, epoch, logs={}):\n",
    "        if logs.get('accuracy') is not None and logs.get('accuracy') > des_train_acc:\n",
    "            self.stop_training = True"
   ]
  },
  {
   "cell_type": "code",
   "execution_count": null,
   "id": "45cbf636-160f-4dbb-8e4f-5cd41d3d30ec",
   "metadata": {},
   "outputs": [],
   "source": []
  },
  {
   "cell_type": "code",
   "execution_count": null,
   "id": "772aff6b-6a83-4f53-abec-f754779fd8ab",
   "metadata": {},
   "outputs": [],
   "source": []
  },
  {
   "cell_type": "code",
   "execution_count": null,
   "id": "f9dbc5da-c8c3-47ab-bad6-bade42dafc8b",
   "metadata": {},
   "outputs": [],
   "source": []
  },
  {
   "cell_type": "markdown",
   "id": "c830b782-30ef-4e75-830f-c9b4aa08d105",
   "metadata": {},
   "source": [
    "# Model"
   ]
  },
  {
   "cell_type": "code",
   "execution_count": 77,
   "id": "316dd89d-e52d-4c81-aa98-6c0469912286",
   "metadata": {},
   "outputs": [
    {
     "name": "stdout",
     "output_type": "stream",
     "text": [
      "Model: \"sequential_5\"\n",
      "_________________________________________________________________\n",
      " Layer (type)                Output Shape              Param #   \n",
      "=================================================================\n",
      " conv2d_12 (Conv2D)          (None, 26, 26, 64)        640       \n",
      "                                                                 \n",
      " max_pooling2d_12 (MaxPoolin  (None, 13, 13, 64)       0         \n",
      " g2D)                                                            \n",
      "                                                                 \n",
      " conv2d_13 (Conv2D)          (None, 11, 11, 64)        36928     \n",
      "                                                                 \n",
      " max_pooling2d_13 (MaxPoolin  (None, 5, 5, 64)         0         \n",
      " g2D)                                                            \n",
      "                                                                 \n",
      " flatten_6 (Flatten)         (None, 1600)              0         \n",
      "                                                                 \n",
      " dense_11 (Dense)            (None, 64)                102464    \n",
      "                                                                 \n",
      " dense_12 (Dense)            (None, 10)                650       \n",
      "                                                                 \n",
      "=================================================================\n",
      "Total params: 140,682\n",
      "Trainable params: 140,682\n",
      "Non-trainable params: 0\n",
      "_________________________________________________________________\n"
     ]
    }
   ],
   "source": [
    "# model \n",
    "\n",
    "model = tf.keras.Sequential([\n",
    "    tf.keras.layers.Conv2D(64, (3, 3), activation='relu', input_shape=(28, 28, 1)),\n",
    "    tf.keras.layers.MaxPool2D(2, 2),\n",
    "    tf.keras.layers.Conv2D(64, (3, 3), activation='relu'),\n",
    "    tf.keras.layers.MaxPool2D(2, 2),\n",
    "    \n",
    "    tf.keras.layers.Flatten(),\n",
    "    tf.keras.layers.Dense(64, activation='relu'),\n",
    "    tf.keras.layers.Dense(NUM_CLASSES, activation='softmax')\n",
    "])\n",
    "\n",
    "model.summary()"
   ]
  },
  {
   "cell_type": "code",
   "execution_count": 78,
   "id": "9ba0d13d-aa4e-487f-9282-2504d7f0c566",
   "metadata": {},
   "outputs": [],
   "source": [
    "model.compile(\n",
    "    optimizer='adam',\n",
    "    loss='sparse_categorical_crossentropy',\n",
    "    metrics=['accuracy']\n",
    ")"
   ]
  },
  {
   "cell_type": "code",
   "execution_count": 79,
   "id": "b1e8a71e-0707-4ea2-8e69-ca8b57317742",
   "metadata": {},
   "outputs": [
    {
     "name": "stdout",
     "output_type": "stream",
     "text": [
      "Epoch 1/20\n",
      "1875/1875 [==============================] - 18s 9ms/step - loss: 0.1346 - accuracy: 0.9588 - val_loss: 0.0514 - val_accuracy: 0.9829\n",
      "Epoch 2/20\n",
      "1875/1875 [==============================] - 18s 10ms/step - loss: 0.0460 - accuracy: 0.9855 - val_loss: 0.0392 - val_accuracy: 0.9866\n",
      "Epoch 3/20\n",
      "1875/1875 [==============================] - 18s 10ms/step - loss: 0.0334 - accuracy: 0.9892 - val_loss: 0.0413 - val_accuracy: 0.9874\n",
      "Epoch 4/20\n",
      "1875/1875 [==============================] - 19s 10ms/step - loss: 0.0237 - accuracy: 0.9925 - val_loss: 0.0338 - val_accuracy: 0.9885\n",
      "Epoch 5/20\n",
      "1875/1875 [==============================] - 23s 12ms/step - loss: 0.0181 - accuracy: 0.9941 - val_loss: 0.0326 - val_accuracy: 0.9890\n",
      "Epoch 6/20\n",
      "1875/1875 [==============================] - 24s 13ms/step - loss: 0.0139 - accuracy: 0.9955 - val_loss: 0.0273 - val_accuracy: 0.9910\n",
      "Epoch 7/20\n",
      "1875/1875 [==============================] - 22s 12ms/step - loss: 0.0117 - accuracy: 0.9962 - val_loss: 0.0385 - val_accuracy: 0.9889\n",
      "Epoch 8/20\n",
      "1875/1875 [==============================] - 22s 12ms/step - loss: 0.0108 - accuracy: 0.9964 - val_loss: 0.0338 - val_accuracy: 0.9911\n",
      "Epoch 9/20\n",
      "1875/1875 [==============================] - 22s 12ms/step - loss: 0.0086 - accuracy: 0.9972 - val_loss: 0.0388 - val_accuracy: 0.9914\n"
     ]
    }
   ],
   "source": [
    "history = model.fit(train_generator,\n",
    "                    epochs=20,\n",
    "                    steps_per_epoch=TRAIN_STEPS,\n",
    "                    validation_data=val_generator,\n",
    "                    validation_steps=VAL_STEPS,\n",
    "                   callbacks=[es])"
   ]
  },
  {
   "cell_type": "markdown",
   "id": "b13f816b-639f-4d7a-a3a5-85949da9ab85",
   "metadata": {},
   "source": [
    "# Visualise"
   ]
  },
  {
   "cell_type": "code",
   "execution_count": 80,
   "id": "95c1c28d-2057-408b-b5f4-709ebf35059d",
   "metadata": {},
   "outputs": [],
   "source": [
    "import pandas as pd\n",
    "\n",
    "def learning_curves(history):\n",
    "    '''Creates a n * max(m, 3) set of plots of learning curves for each metric logged. Requires a validation set.'''\n",
    "    # Put metrics from history.history in a data frame\n",
    "    metrics = pd.DataFrame(dict(history.history))\n",
    "    epochs = np.arange(1, metrics.shape[0] + 1, 1)\n",
    "\n",
    "    # Determine size of plot based\n",
    "    if len(metrics.columns) > 3:\n",
    "        n_rows = int((len(metrics.columns) / 2 - 1) // 3 + 1)\n",
    "        n_col = 3\n",
    "    n_rows = 1\n",
    "    n_cols = int(len(metrics.columns) / 2)\n",
    "    fig, axes = plt.subplots(n_rows, n_cols, figsize=(16, n_rows * 4))\n",
    "\n",
    "    # Determine pairs from dictionary\n",
    "    pairs = []\n",
    "    for i, metric in enumerate(metrics.columns, 1):\n",
    "        if i <= metrics.shape[1] / 2:\n",
    "            pairs.append([column for column in metrics.columns if metric in column])\n",
    "\n",
    "    # Plot pairs\n",
    "    for i, pair in enumerate(pairs):\n",
    "        axes[i].plot(epochs, metrics[pair[0]], label=pair[0])\n",
    "        axes[i].plot(epochs, metrics[pair[1]], label=pair[1])\n",
    "        axes[i].set_title(f'Training and Validation {pair[0].title()}')\n",
    "        axes[i].set_xlabel('Epoch')\n",
    "        axes[i].set_ylabel(pair[0].title())\n",
    "        axes[i].legend()\n",
    "    \n",
    "    fig.suptitle('Learning Curves', fontsize=20)\n",
    "    plt.show()"
   ]
  },
  {
   "cell_type": "code",
   "execution_count": 81,
   "id": "4b628817-0abb-45e7-bd14-ee4718e3367a",
   "metadata": {},
   "outputs": [
    {
     "data": {
      "image/png": "[encoded data removed]",
      "text/plain": [
       "<Figure size 1600x400 with 2 Axes>"
      ]
     },
     "metadata": {},
     "output_type": "display_data"
    }
   ],
   "source": [
    "learning_curves(history)"
   ]
  },
  {
   "cell_type": "code",
   "execution_count": 92,
   "id": "2f4d34bc-b2e5-4dc0-9daa-d8edfe9ac471",
   "metadata": {},
   "outputs": [
    {
     "data": {
      "text/plain": [
       "(0.008638568222522736,\n",
       " 0.038838718086481094,\n",
       " 0.9971500039100647,\n",
       " 0.9913862347602844)"
      ]
     },
     "execution_count": 92,
     "metadata": {},
     "output_type": "execute_result"
    }
   ],
   "source": [
    "history.history['loss'][-1], history.history['val_loss'][-1], history.history['accuracy'][-1], history.history['val_accuracy'][-1]"
   ]
  },
  {
   "cell_type": "markdown",
   "id": "bbb74137-6367-4b79-8a27-9f2816063612",
   "metadata": {},
   "source": [
    "# Save"
   ]
  },
  {
   "cell_type": "code",
   "execution_count": 93,
   "id": "5d7267c1-984f-41c0-b3b6-5e1ad293d883",
   "metadata": {},
   "outputs": [],
   "source": [
    "model.save('simple_CNN.h5', save_format='h5')"
   ]
  },
  {
   "cell_type": "code",
   "execution_count": null,
   "id": "bb63aa6d-8588-4b4a-9948-88ae384981d1",
   "metadata": {},
   "outputs": [],
   "source": []
  },
  {
   "cell_type": "code",
   "execution_count": null,
   "id": "f06edb85-4f83-473f-ab21-159621cafbd9",
   "metadata": {},
   "outputs": [],
   "source": []
  }
 ],
 "metadata": {
  "kernelspec": {
   "display_name": "Python 3 (ipykernel)",
   "language": "python",
   "name": "python3"
  },
  "language_info": {
   "codemirror_mode": {
    "name": "ipython",
    "version": 3
   },
   "file_extension": ".py",
   "mimetype": "text/x-python",
   "name": "python",
   "nbconvert_exporter": "python",
   "pygments_lexer": "ipython3",
   "version": "3.8.12"
  }
 },
 "nbformat": 4,
 "nbformat_minor": 5
}
