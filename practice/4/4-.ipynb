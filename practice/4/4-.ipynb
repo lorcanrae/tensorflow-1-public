{
 "cells": [
  {
   "cell_type": "code",
   "execution_count": 1,
   "id": "8a172930-5e38-4fd9-a55a-be1ac5307699",
   "metadata": {},
   "outputs": [
    {
     "name": "stderr",
     "output_type": "stream",
     "text": [
      "2022-09-09 21:14:36.328094: I tensorflow/core/util/util.cc:169] oneDNN custom operations are on. You may see slightly different numerical results due to floating-point round-off errors from different computation orders. To turn them off, set the environment variable `TF_ENABLE_ONEDNN_OPTS=0`.\n",
      "2022-09-09 21:14:36.333041: W tensorflow/stream_executor/platform/default/dso_loader.cc:64] Could not load dynamic library 'libcudart.so.11.0'; dlerror: libcudart.so.11.0: cannot open shared object file: No such file or directory\n",
      "2022-09-09 21:14:36.333055: I tensorflow/stream_executor/cuda/cudart_stub.cc:29] Ignore above cudart dlerror if you do not have a GPU set up on your machine.\n"
     ]
    }
   ],
   "source": [
    "import tensorflow as tf\n",
    "import numpy as np\n",
    "import urllib\n",
    "import json\n",
    "from tensorflow.keras.preprocessing.text import Tokenizer\n",
    "from tensorflow.keras.preprocessing.sequence import pad_sequences"
   ]
  },
  {
   "cell_type": "code",
   "execution_count": 2,
   "id": "7dc33759-af82-43ca-a1d7-65700bb2e9bf",
   "metadata": {},
   "outputs": [],
   "source": [
    "url = 'https://storage.googleapis.com/download.tensorflow.org/data/sarcasm.json'\n",
    "urllib.request.urlretrieve(url, 'sarcasm.json')\n",
    "\n",
    "vocab_size = 1000\n",
    "embedding_dim = 16\n",
    "max_length = 120\n",
    "trunc_type='post'\n",
    "padding_type='post'\n",
    "oov_tok = \"<OOV>\"\n",
    "training_size = 20000\n",
    "\n",
    "sentences = []\n",
    "labels = []\n",
    "# YOUR CODE HERE\n",
    "with open('sarcasm.json', 'r') as f:\n",
    "    data = json.load(f)\n",
    "\n",
    "for row in data:\n",
    "    sentences.append(row['headline'])\n",
    "    labels.append(row['is_sarcastic'])"
   ]
  },
  {
   "cell_type": "code",
   "execution_count": 4,
   "id": "586d25ca-8068-4d37-840a-0f0b0895ab4a",
   "metadata": {},
   "outputs": [],
   "source": [
    "stopwords = [\"a\", \"about\", \"above\", \"after\", \"again\", \"against\", \"all\", \"am\", \"an\", \"and\", \"any\", \"are\", \"as\", \"at\", \"be\", \"because\", \"been\", \"before\", \"being\", \"below\", \"between\", \"both\", \"but\", \"by\", \"could\", \"did\", \"do\", \"does\", \"doing\", \"down\", \"during\", \"each\", \"few\", \"for\", \"from\", \"further\", \"had\", \"has\", \"have\", \"having\", \"he\", \"he'd\", \"he'll\", \"he's\", \"her\", \"here\", \"here's\", \"hers\", \"herself\", \"him\", \"himself\", \"his\", \"how\", \"how's\", \"i\", \"i'd\", \"i'll\", \"i'm\", \"i've\", \"if\", \"in\", \"into\", \"is\", \"it\", \"it's\", \"its\", \"itself\", \"let's\", \"me\", \"more\", \"most\", \"my\", \"myself\", \"nor\", \"of\", \"on\", \"once\", \"only\", \"or\", \"other\", \"ought\", \"our\", \"ours\", \"ourselves\", \"out\", \"over\", \"own\", \"same\", \"she\", \"she'd\", \"she'll\", \"she's\", \"should\", \"so\", \"some\", \"such\", \"than\", \"that\", \"that's\", \"the\", \"their\", \"theirs\", \"them\", \"themselves\", \"then\", \"there\", \"there's\", \"these\", \"they\", \"they'd\", \"they'll\", \"they're\", \"they've\", \"this\", \"those\", \"through\", \"to\", \"too\", \"under\", \"until\", \"up\", \"very\", \"was\", \"we\", \"we'd\", \"we'll\", \"we're\", \"we've\", \"were\", \"what\", \"what's\", \"when\", \"when's\", \"where\", \"where's\", \"which\", \"while\", \"who\", \"who's\", \"whom\", \"why\", \"why's\", \"with\", \"would\", \"you\", \"you'd\", \"you'll\", \"you're\", \"you've\", \"your\", \"yours\", \"yourself\", \"yourselves\" ]\n",
    "\n",
    "sentence_stop = []\n",
    "for sentence in sentences:\n",
    "    sentence_stop.append(' '.join([word for word in sentence.split() if word not in stopwords]))"
   ]
  },
  {
   "cell_type": "code",
   "execution_count": 6,
   "id": "56516289-bad1-4675-9bcf-22173e9be582",
   "metadata": {},
   "outputs": [],
   "source": [
    "# Tokenize and pad\n",
    "\n",
    "train_sentences = sentences[:training_size]\n",
    "train_labels = labels[:training_size]\n",
    "train_labels = np.array(train_labels)\n",
    "\n",
    "val_sentences = sentences[training_size:]\n",
    "val_labels = labels[training_size:]\n",
    "val_labels = np.array(val_labels)\n",
    "\n",
    "tokenizer = Tokenizer(num_words=vocab_size, oov_token=oov_tok)\n",
    "tokenizer.fit_on_texts(train_sentences)\n",
    "\n",
    "training_sequences = tokenizer.texts_to_sequences(train_sentences)\n",
    "training_padded = pad_sequences(training_sequences, maxlen=max_length, padding=padding_type, truncating=trunc_type)\n",
    "\n",
    "val_sequences = tokenizer.texts_to_sequences(val_sentences)\n",
    "val_padded = pad_sequences(val_sequences, maxlen=max_length, padding=padding_type, truncating=trunc_type)"
   ]
  },
  {
   "cell_type": "code",
   "execution_count": 8,
   "id": "e20893d3-41ae-4557-88ae-939c959db3d6",
   "metadata": {},
   "outputs": [
    {
     "name": "stdout",
     "output_type": "stream",
     "text": [
      "Epoch 1/20\n",
      "625/625 [==============================] - 34s 51ms/step - loss: 0.4842 - accuracy: 0.7504 - val_loss: 0.3937 - val_accuracy: 0.8156\n",
      "Epoch 2/20\n",
      "625/625 [==============================] - 34s 55ms/step - loss: 0.3715 - accuracy: 0.8332 - val_loss: 0.3816 - val_accuracy: 0.8247\n",
      "Epoch 3/20\n",
      "625/625 [==============================] - 44s 70ms/step - loss: 0.3462 - accuracy: 0.8443 - val_loss: 0.3778 - val_accuracy: 0.8307\n",
      "Epoch 4/20\n",
      "625/625 [==============================] - 44s 71ms/step - loss: 0.3260 - accuracy: 0.8565 - val_loss: 0.3807 - val_accuracy: 0.8308\n",
      "Epoch 5/20\n",
      "625/625 [==============================] - 44s 71ms/step - loss: 0.3109 - accuracy: 0.8644 - val_loss: 0.3761 - val_accuracy: 0.8334\n",
      "Epoch 6/20\n",
      "625/625 [==============================] - 44s 71ms/step - loss: 0.2992 - accuracy: 0.8712 - val_loss: 0.3888 - val_accuracy: 0.8308\n",
      "Epoch 7/20\n",
      "625/625 [==============================] - 44s 71ms/step - loss: 0.2942 - accuracy: 0.8745 - val_loss: 0.3895 - val_accuracy: 0.8320\n",
      "Epoch 8/20\n",
      "625/625 [==============================] - 44s 71ms/step - loss: 0.2854 - accuracy: 0.8789 - val_loss: 0.3956 - val_accuracy: 0.8314\n",
      "Epoch 9/20\n",
      "625/625 [==============================] - 45s 72ms/step - loss: 0.2755 - accuracy: 0.8848 - val_loss: 0.4058 - val_accuracy: 0.8278\n",
      "Epoch 10/20\n",
      "625/625 [==============================] - 45s 72ms/step - loss: 0.2722 - accuracy: 0.8852 - val_loss: 0.4088 - val_accuracy: 0.8286\n",
      "Epoch 11/20\n",
      "625/625 [==============================] - 44s 71ms/step - loss: 0.2633 - accuracy: 0.8899 - val_loss: 0.4192 - val_accuracy: 0.8229\n",
      "Epoch 12/20\n",
      "625/625 [==============================] - 44s 71ms/step - loss: 0.2550 - accuracy: 0.8938 - val_loss: 0.4483 - val_accuracy: 0.8232\n",
      "Epoch 13/20\n",
      "625/625 [==============================] - 44s 71ms/step - loss: 0.2497 - accuracy: 0.8965 - val_loss: 0.4418 - val_accuracy: 0.8243\n",
      "Epoch 14/20\n",
      "625/625 [==============================] - 45s 72ms/step - loss: 0.2452 - accuracy: 0.8976 - val_loss: 0.4349 - val_accuracy: 0.8223\n",
      "Epoch 15/20\n",
      "625/625 [==============================] - 44s 71ms/step - loss: 0.2385 - accuracy: 0.9022 - val_loss: 0.4349 - val_accuracy: 0.8222\n",
      "Epoch 16/20\n",
      "625/625 [==============================] - 45s 72ms/step - loss: 0.2303 - accuracy: 0.9026 - val_loss: 0.4877 - val_accuracy: 0.8205\n",
      "Epoch 17/20\n",
      "625/625 [==============================] - 46s 74ms/step - loss: 0.2259 - accuracy: 0.9061 - val_loss: 0.4869 - val_accuracy: 0.8228\n",
      "Epoch 18/20\n",
      "625/625 [==============================] - 47s 75ms/step - loss: 0.2186 - accuracy: 0.9089 - val_loss: 0.5004 - val_accuracy: 0.8195\n",
      "Epoch 19/20\n",
      "625/625 [==============================] - 48s 77ms/step - loss: 0.2132 - accuracy: 0.9113 - val_loss: 0.5216 - val_accuracy: 0.8164\n",
      "Epoch 20/20\n",
      "625/625 [==============================] - 46s 74ms/step - loss: 0.2087 - accuracy: 0.9151 - val_loss: 0.5165 - val_accuracy: 0.8201\n"
     ]
    },
    {
     "data": {
      "text/plain": [
       "<keras.callbacks.History at 0x7ff453eaaa90>"
      ]
     },
     "execution_count": 8,
     "metadata": {},
     "output_type": "execute_result"
    }
   ],
   "source": [
    "filters = 128\n",
    "kernel_size = 5\n",
    "dense_dim = 6\n",
    "\n",
    "model = tf.keras.Sequential([\n",
    "    tf.keras.layers.Embedding(vocab_size, embedding_dim, input_length=max_length),\n",
    "    tf.keras.layers.Bidirectional(tf.keras.layers.LSTM(32, return_sequences=True)),\n",
    "    tf.keras.layers.Dropout(0.5),\n",
    "    tf.keras.layers.Bidirectional(tf.keras.layers.LSTM(32)),\n",
    "    tf.keras.layers.Dropout(0.5),\n",
    "    # tf.keras.layers.Conv1D(filters, kernel_size, activation='relu'),\n",
    "    # tf.keras.layers.GlobalMaxPooling1D(),\n",
    "    tf.keras.layers.Dense(6, activation='relu'),\n",
    "    # tf.keras.layers.Dense(8, activation='relu'),\n",
    "    tf.keras.layers.Dense(1, activation='sigmoid')\n",
    "])\n",
    "\n",
    "model.compile(loss='binary_crossentropy',\n",
    "              optimizer='adam',\n",
    "              metrics=['accuracy'])\n",
    "\n",
    "es = tf.keras.callbacks.EarlyStopping(patience=15, restore_best_weights=True)\n",
    "\n",
    "model.fit(training_padded,\n",
    "          train_labels,\n",
    "          epochs=20,\n",
    "          validation_data=(val_padded, val_labels),\n",
    "          callbacks=[es])"
   ]
  },
  {
   "cell_type": "code",
   "execution_count": null,
   "id": "9b89665d-4345-43bd-b9fd-4515cf0de752",
   "metadata": {},
   "outputs": [],
   "source": []
  },
  {
   "cell_type": "code",
   "execution_count": null,
   "id": "9c3a97a6-68ec-466d-99ae-a17ede5c6adb",
   "metadata": {},
   "outputs": [],
   "source": []
  },
  {
   "cell_type": "code",
   "execution_count": null,
   "id": "1e2ad103-c338-45d6-95ea-f3b91a9a0554",
   "metadata": {},
   "outputs": [],
   "source": []
  },
  {
   "cell_type": "code",
   "execution_count": null,
   "id": "093c19d2-fdd7-4b92-9456-5f39bdaf3628",
   "metadata": {},
   "outputs": [],
   "source": []
  }
 ],
 "metadata": {
  "kernelspec": {
   "display_name": "Python 3 (ipykernel)",
   "language": "python",
   "name": "python3"
  },
  "language_info": {
   "codemirror_mode": {
    "name": "ipython",
    "version": 3
   },
   "file_extension": ".py",
   "mimetype": "text/x-python",
   "name": "python",
   "nbconvert_exporter": "python",
   "pygments_lexer": "ipython3",
   "version": "3.8.12"
  }
 },
 "nbformat": 4,
 "nbformat_minor": 5
}
