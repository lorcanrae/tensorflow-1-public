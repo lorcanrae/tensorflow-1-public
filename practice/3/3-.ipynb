{
 "cells": [
  {
   "cell_type": "code",
   "execution_count": 2,
   "id": "8aaaa585-0979-40a9-acb0-0fd89c9633ea",
   "metadata": {},
   "outputs": [
    {
     "name": "stderr",
     "output_type": "stream",
     "text": [
      "2022-09-13 12:37:45.557260: W tensorflow/stream_executor/platform/default/dso_loader.cc:64] Could not load dynamic library 'libcudart.so.11.0'; dlerror: libcudart.so.11.0: cannot open shared object file: No such file or directory\n",
      "2022-09-13 12:37:45.557373: I tensorflow/stream_executor/cuda/cudart_stub.cc:29] Ignore above cudart dlerror if you do not have a GPU set up on your machine.\n"
     ]
    }
   ],
   "source": [
    "import urllib\n",
    "import tensorflow as tf\n",
    "from tensorflow.keras.preprocessing.image import ImageDataGenerator\n",
    "import numpy as np\n",
    "import zipfile\n",
    "import os"
   ]
  },
  {
   "cell_type": "code",
   "execution_count": 13,
   "id": "bba1ef1d-d858-45c8-a353-f67cce2e3d18",
   "metadata": {},
   "outputs": [
    {
     "data": {
      "text/plain": [
       "['4',\n",
       " 'simple_multi_CNN.ipynb',\n",
       " 'time_series.ipynb',\n",
       " 'nlp-movie-rationales.ipynb',\n",
       " 'test.ipynb',\n",
       " '5',\n",
       " '__MACOSX',\n",
       " '.ipynb_checkpoints',\n",
       " '2',\n",
       " '1',\n",
       " '3']"
      ]
     },
     "execution_count": 13,
     "metadata": {},
     "output_type": "execute_result"
    }
   ],
   "source": [
    "# rootdir = os.listdir(os.path.dirname(os.path.abspath(__file__)))\n",
    "\n",
    "root_dir = os.path.dirname(os.getcwd())\n",
    "prac_dir = os.path.join('..', root_dir)\n",
    "os.listdir(prac_dir)"
   ]
  },
  {
   "cell_type": "code",
   "execution_count": 22,
   "id": "3edc20c6-6f6f-4663-8e44-d3f6126fe42b",
   "metadata": {},
   "outputs": [
    {
     "name": "stdout",
     "output_type": "stream",
     "text": [
      "found 2 files in 4\n",
      "found 3 files in 5\n",
      "found 1 files in __MACOSX\n",
      "found 1 files in .ipynb_checkpoints\n",
      "found 1 files in 2\n",
      "found 1 files in 1\n",
      "found 2 files in 3\n",
      "11 found\n"
     ]
    }
   ],
   "source": [
    "\n",
    "num_files = 0\n",
    "for i in os.listdir(prac_dir):\n",
    "    if os.path.isdir(os.path.join(prac_dir, i)):\n",
    "        # print(f'{i} is a directory')\n",
    "        num_in_dir = len(os.listdir(os.path.join(prac_dir, i)))\n",
    "        num_files += num_in_dir\n",
    "        print(f'found {num_in_dir} files in {i}')\n",
    "print(f'{num_files} found')"
   ]
  },
  {
   "cell_type": "code",
   "execution_count": 31,
   "id": "0494d294-94e9-49e2-b489-9ebaf4ebde7b",
   "metadata": {},
   "outputs": [
    {
     "data": {
      "text/plain": [
       "11"
      ]
     },
     "execution_count": 31,
     "metadata": {},
     "output_type": "execute_result"
    }
   ],
   "source": [
    "num_files = 0\n",
    "for root, dirs, files in os.walk(prac_dir):\n",
    "    for file in files:\n",
    "        num_files += 1 if file.endswith('.ipynb') else 0\n",
    "num_files"
   ]
  },
  {
   "cell_type": "code",
   "execution_count": null,
   "id": "e5cf0b0b-a65a-466d-b243-128ffee2f017",
   "metadata": {},
   "outputs": [],
   "source": []
  },
  {
   "cell_type": "code",
   "execution_count": null,
   "id": "9425f2b3-dcc7-481d-9464-5c33ed122ebb",
   "metadata": {},
   "outputs": [],
   "source": []
  },
  {
   "cell_type": "code",
   "execution_count": 6,
   "id": "6b0920f9-a6f5-4944-9404-6e289f098648",
   "metadata": {},
   "outputs": [],
   "source": [
    "url = 'https://storage.googleapis.com/download.tensorflow.org/data/rps.zip'\n",
    "urllib.request.urlretrieve(url, 'rps.zip')\n",
    "local_zip = 'rps.zip'\n",
    "zip_ref = zipfile.ZipFile(local_zip, 'r')\n",
    "zip_ref.extractall('tmp/')\n",
    "zip_ref.close()"
   ]
  },
  {
   "cell_type": "code",
   "execution_count": 9,
   "id": "3ff6e2d4-bb0c-410d-8cef-33d45339cc46",
   "metadata": {},
   "outputs": [
    {
     "name": "stdout",
     "output_type": "stream",
     "text": [
      "840\n",
      "840\n",
      "840\n"
     ]
    }
   ],
   "source": [
    "PAPER_SOURCE_DIR = \"tmp/rps/paper/\"\n",
    "ROCK_SOURCE_DIR = \"tmp/rps/rock/\"\n",
    "SCISSORS_SOURCE_DIR = \"tmp/rps/scissors/\"\n",
    "\n",
    "print(len(os.listdir(PAPER_SOURCE_DIR)))\n",
    "print(len(os.listdir(ROCK_SOURCE_DIR)))\n",
    "print(len(os.listdir(SCISSORS_SOURCE_DIR)))"
   ]
  },
  {
   "cell_type": "code",
   "execution_count": 10,
   "id": "ad364ed8-c9f1-40fb-8600-eed3be606925",
   "metadata": {},
   "outputs": [
    {
     "data": {
      "text/plain": [
       "2520"
      ]
     },
     "execution_count": 10,
     "metadata": {},
     "output_type": "execute_result"
    }
   ],
   "source": [
    "840 * 3"
   ]
  },
  {
   "cell_type": "code",
   "execution_count": null,
   "id": "bd405d27-6a9a-4b95-8ca0-35f567f7d60f",
   "metadata": {},
   "outputs": [],
   "source": []
  }
 ],
 "metadata": {
  "kernelspec": {
   "display_name": "Python 3 (ipykernel)",
   "language": "python",
   "name": "python3"
  },
  "language_info": {
   "codemirror_mode": {
    "name": "ipython",
    "version": 3
   },
   "file_extension": ".py",
   "mimetype": "text/x-python",
   "name": "python",
   "nbconvert_exporter": "python",
   "pygments_lexer": "ipython3",
   "version": "3.8.12"
  }
 },
 "nbformat": 4,
 "nbformat_minor": 5
}
