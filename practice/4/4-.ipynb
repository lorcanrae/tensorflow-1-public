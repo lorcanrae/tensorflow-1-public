{
 "cells": [
  {
   "cell_type": "code",
   "execution_count": 1,
   "id": "8a172930-5e38-4fd9-a55a-be1ac5307699",
   "metadata": {},
   "outputs": [
    {
     "name": "stderr",
     "output_type": "stream",
     "text": [
      "2022-09-12 13:12:17.392088: W tensorflow/stream_executor/platform/default/dso_loader.cc:64] Could not load dynamic library 'libcudart.so.11.0'; dlerror: libcudart.so.11.0: cannot open shared object file: No such file or directory\n",
      "2022-09-12 13:12:17.392108: I tensorflow/stream_executor/cuda/cudart_stub.cc:29] Ignore above cudart dlerror if you do not have a GPU set up on your machine.\n"
     ]
    }
   ],
   "source": [
    "import tensorflow as tf\n",
    "import numpy as np\n",
    "import urllib\n",
    "import json\n",
    "from tensorflow.keras.preprocessing.text import Tokenizer\n",
    "from tensorflow.keras.preprocessing.sequence import pad_sequences"
   ]
  },
  {
   "cell_type": "code",
   "execution_count": 2,
   "id": "7dc33759-af82-43ca-a1d7-65700bb2e9bf",
   "metadata": {},
   "outputs": [],
   "source": [
    "url = 'https://storage.googleapis.com/download.tensorflow.org/data/sarcasm.json'\n",
    "urllib.request.urlretrieve(url, 'sarcasm.json')\n",
    "\n",
    "vocab_size = 1000\n",
    "embedding_dim = 16\n",
    "max_length = 120\n",
    "trunc_type='post'\n",
    "padding_type='post'\n",
    "oov_tok = \"<OOV>\"\n",
    "training_size = 20000\n",
    "\n",
    "sentences = []\n",
    "labels = []\n",
    "# YOUR CODE HERE\n",
    "with open('sarcasm.json', 'r') as f:\n",
    "    data = json.load(f)\n",
    "\n",
    "for row in data:\n",
    "    sentences.append(row['headline'])\n",
    "    labels.append(row['is_sarcastic'])"
   ]
  },
  {
   "cell_type": "code",
   "execution_count": 3,
   "id": "586d25ca-8068-4d37-840a-0f0b0895ab4a",
   "metadata": {},
   "outputs": [],
   "source": [
    "stopwords = [\"a\", \"about\", \"above\", \"after\", \"again\", \"against\", \"all\", \"am\", \"an\", \"and\", \"any\", \"are\", \"as\", \"at\", \"be\", \"because\", \"been\", \"before\", \"being\", \"below\", \"between\", \"both\", \"but\", \"by\", \"could\", \"did\", \"do\", \"does\", \"doing\", \"down\", \"during\", \"each\", \"few\", \"for\", \"from\", \"further\", \"had\", \"has\", \"have\", \"having\", \"he\", \"he'd\", \"he'll\", \"he's\", \"her\", \"here\", \"here's\", \"hers\", \"herself\", \"him\", \"himself\", \"his\", \"how\", \"how's\", \"i\", \"i'd\", \"i'll\", \"i'm\", \"i've\", \"if\", \"in\", \"into\", \"is\", \"it\", \"it's\", \"its\", \"itself\", \"let's\", \"me\", \"more\", \"most\", \"my\", \"myself\", \"nor\", \"of\", \"on\", \"once\", \"only\", \"or\", \"other\", \"ought\", \"our\", \"ours\", \"ourselves\", \"out\", \"over\", \"own\", \"same\", \"she\", \"she'd\", \"she'll\", \"she's\", \"should\", \"so\", \"some\", \"such\", \"than\", \"that\", \"that's\", \"the\", \"their\", \"theirs\", \"them\", \"themselves\", \"then\", \"there\", \"there's\", \"these\", \"they\", \"they'd\", \"they'll\", \"they're\", \"they've\", \"this\", \"those\", \"through\", \"to\", \"too\", \"under\", \"until\", \"up\", \"very\", \"was\", \"we\", \"we'd\", \"we'll\", \"we're\", \"we've\", \"were\", \"what\", \"what's\", \"when\", \"when's\", \"where\", \"where's\", \"which\", \"while\", \"who\", \"who's\", \"whom\", \"why\", \"why's\", \"with\", \"would\", \"you\", \"you'd\", \"you'll\", \"you're\", \"you've\", \"your\", \"yours\", \"yourself\", \"yourselves\" ]\n",
    "\n",
    "sentence_stop = []\n",
    "for sentence in sentences:\n",
    "    sentence_stop.append(' '.join([word for word in sentence.split() if word not in stopwords]))"
   ]
  },
  {
   "cell_type": "code",
   "execution_count": 4,
   "id": "56516289-bad1-4675-9bcf-22173e9be582",
   "metadata": {},
   "outputs": [],
   "source": [
    "# Tokenize and pad\n",
    "\n",
    "train_sentences = sentences[:training_size]\n",
    "train_labels = labels[:training_size]\n",
    "train_labels = np.array(train_labels)\n",
    "\n",
    "val_sentences = sentences[training_size:]\n",
    "val_labels = labels[training_size:]\n",
    "val_labels = np.array(val_labels)\n",
    "\n",
    "tokenizer = Tokenizer(num_words=vocab_size, oov_token=oov_tok)\n",
    "tokenizer.fit_on_texts(train_sentences)\n",
    "\n",
    "training_sequences = tokenizer.texts_to_sequences(train_sentences)\n",
    "training_padded = pad_sequences(training_sequences, maxlen=max_length, padding=padding_type, truncating=trunc_type)\n",
    "\n",
    "val_sequences = tokenizer.texts_to_sequences(val_sentences)\n",
    "val_padded = pad_sequences(val_sequences, maxlen=max_length, padding=padding_type, truncating=trunc_type)"
   ]
  },
  {
   "cell_type": "code",
   "execution_count": 8,
   "id": "e20893d3-41ae-4557-88ae-939c959db3d6",
   "metadata": {},
   "outputs": [
    {
     "name": "stdout",
     "output_type": "stream",
     "text": [
      "Epoch 1/20\n",
      "313/313 [==============================] - 21s 58ms/step - loss: 0.5251 - accuracy: 0.7168 - val_loss: 0.3998 - val_accuracy: 0.8128\n",
      "Epoch 2/20\n",
      "313/313 [==============================] - 19s 59ms/step - loss: 0.4082 - accuracy: 0.8180 - val_loss: 0.4044 - val_accuracy: 0.8143\n",
      "Epoch 3/20\n",
      "313/313 [==============================] - 19s 61ms/step - loss: 0.3718 - accuracy: 0.8370 - val_loss: 0.3904 - val_accuracy: 0.8201\n",
      "Epoch 4/20\n",
      "313/313 [==============================] - 20s 65ms/step - loss: 0.3520 - accuracy: 0.8454 - val_loss: 0.3854 - val_accuracy: 0.8267\n",
      "Epoch 5/20\n",
      "313/313 [==============================] - 24s 77ms/step - loss: 0.3372 - accuracy: 0.8553 - val_loss: 0.3819 - val_accuracy: 0.8278\n",
      "Epoch 6/20\n",
      "313/313 [==============================] - 24s 77ms/step - loss: 0.3238 - accuracy: 0.8614 - val_loss: 0.3859 - val_accuracy: 0.8269\n",
      "Epoch 7/20\n",
      "313/313 [==============================] - 24s 77ms/step - loss: 0.3136 - accuracy: 0.8654 - val_loss: 0.3827 - val_accuracy: 0.8304\n",
      "Epoch 8/20\n",
      "313/313 [==============================] - 24s 77ms/step - loss: 0.3065 - accuracy: 0.8713 - val_loss: 0.3872 - val_accuracy: 0.8289\n",
      "Epoch 9/20\n",
      "313/313 [==============================] - 24s 77ms/step - loss: 0.2984 - accuracy: 0.8758 - val_loss: 0.3898 - val_accuracy: 0.8264\n",
      "Epoch 10/20\n",
      "313/313 [==============================] - 24s 77ms/step - loss: 0.2916 - accuracy: 0.8791 - val_loss: 0.4024 - val_accuracy: 0.8241\n",
      "Epoch 11/20\n",
      "313/313 [==============================] - 24s 77ms/step - loss: 0.2863 - accuracy: 0.8828 - val_loss: 0.4146 - val_accuracy: 0.8249\n",
      "Epoch 12/20\n",
      "313/313 [==============================] - 24s 77ms/step - loss: 0.2807 - accuracy: 0.8847 - val_loss: 0.4304 - val_accuracy: 0.8223\n",
      "Epoch 13/20\n",
      "313/313 [==============================] - 24s 77ms/step - loss: 0.2729 - accuracy: 0.8886 - val_loss: 0.4176 - val_accuracy: 0.8255\n",
      "Epoch 14/20\n",
      "313/313 [==============================] - 24s 77ms/step - loss: 0.2716 - accuracy: 0.8884 - val_loss: 0.4494 - val_accuracy: 0.8198\n",
      "Epoch 15/20\n",
      "313/313 [==============================] - 24s 77ms/step - loss: 0.2646 - accuracy: 0.8925 - val_loss: 0.4360 - val_accuracy: 0.8232\n"
     ]
    },
    {
     "data": {
      "text/plain": [
       "<keras.callbacks.History at 0x7fc5106ee4f0>"
      ]
     },
     "execution_count": 8,
     "metadata": {},
     "output_type": "execute_result"
    }
   ],
   "source": [
    "# Params\n",
    "dense_dim = 8\n",
    "\n",
    "model = tf.keras.Sequential([\n",
    "    tf.keras.layers.Embedding(vocab_size, embedding_dim, input_length=max_length),\n",
    "    tf.keras.layers.Bidirectional(tf.keras.layers.LSTM(32, return_sequences=True)),\n",
    "    tf.keras.layers.Dropout(0.5),\n",
    "    tf.keras.layers.Bidirectional(tf.keras.layers.LSTM(32)),\n",
    "    tf.keras.layers.Dropout(0.7),\n",
    "    # tf.keras.layers.Conv1D(filters, kernel_size, activation='relu'),\n",
    "    # tf.keras.layers.GlobalMaxPooling1D(),\n",
    "    tf.keras.layers.Dense(dense_dim, activation='relu'),\n",
    "    # tf.keras.layers.Dense(8, activation='relu'),\n",
    "    tf.keras.layers.Dense(1, activation='sigmoid')\n",
    "])\n",
    "\n",
    "model.compile(loss='binary_crossentropy',\n",
    "              optimizer='adam',\n",
    "              metrics=['accuracy'])\n",
    "\n",
    "es = tf.keras.callbacks.EarlyStopping(patience=10, restore_best_weights=True)\n",
    "\n",
    "model.fit(training_padded,\n",
    "          train_labels,\n",
    "          epochs=20,\n",
    "          validation_data=(val_padded, val_labels),\n",
    "          batch_size=64,\n",
    "          callbacks=[es])"
   ]
  },
  {
   "cell_type": "code",
   "execution_count": null,
   "id": "9b89665d-4345-43bd-b9fd-4515cf0de752",
   "metadata": {},
   "outputs": [],
   "source": []
  },
  {
   "cell_type": "code",
   "execution_count": null,
   "id": "9c3a97a6-68ec-466d-99ae-a17ede5c6adb",
   "metadata": {},
   "outputs": [],
   "source": []
  },
  {
   "cell_type": "code",
   "execution_count": null,
   "id": "1e2ad103-c338-45d6-95ea-f3b91a9a0554",
   "metadata": {},
   "outputs": [],
   "source": []
  },
  {
   "cell_type": "code",
   "execution_count": null,
   "id": "093c19d2-fdd7-4b92-9456-5f39bdaf3628",
   "metadata": {},
   "outputs": [],
   "source": []
  }
 ],
 "metadata": {
  "kernelspec": {
   "display_name": "Python 3 (ipykernel)",
   "language": "python",
   "name": "python3"
  },
  "language_info": {
   "codemirror_mode": {
    "name": "ipython",
    "version": 3
   },
   "file_extension": ".py",
   "mimetype": "text/x-python",
   "name": "python",
   "nbconvert_exporter": "python",
   "pygments_lexer": "ipython3",
   "version": "3.8.12"
  }
 },
 "nbformat": 4,
 "nbformat_minor": 5
}
