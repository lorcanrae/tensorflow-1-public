{
 "cells": [
  {
   "cell_type": "markdown",
   "metadata": {},
   "source": [
    "<a href=\"https://colab.research.google.com/github/https-deeplearning-ai/tensorflow-1-public/blob/main/C4/W3/ungraded_labs/C4_W3_Lab_2_LSTM.ipynb\" target=\"_parent\"><img src=\"https://colab.research.google.com/assets/colab-badge.svg\" alt=\"Open In Colab\"/></a>"
   ]
  },
  {
   "cell_type": "markdown",
   "metadata": {
    "id": "sV_nvXSQGJPK"
   },
   "source": [
    "# Ungraded Lab: Using a multi-layer LSTM for forecasting\n",
    "\n",
    "In this lab, you will use the same RNN architecure in the first lab but will instead stack [LSTM](https://www.tensorflow.org/api_docs/python/tf/keras/layers/LSTM) layers instead of `SimpleRNN`."
   ]
  },
  {
   "cell_type": "code",
   "execution_count": 1,
   "metadata": {},
   "outputs": [
    {
     "name": "stdout",
     "output_type": "stream",
     "text": [
      "\u001b[1;31mE: \u001b[0mCould not open lock file /var/lib/dpkg/lock-frontend - open (13: Permission denied)\u001b[0m\n",
      "\u001b[1;31mE: \u001b[0mUnable to acquire the dpkg frontend lock (/var/lib/dpkg/lock-frontend), are you root?\u001b[0m\n"
     ]
    }
   ],
   "source": [
    "# Install this package to use Colab's GPU for training\n",
    "!apt install --allow-change-held-packages libcudnn8=8.4.1.50-1+cuda11.6"
   ]
  },
  {
   "cell_type": "markdown",
   "metadata": {
    "id": "3IMbAWETGOWD"
   },
   "source": [
    "## Imports"
   ]
  },
  {
   "cell_type": "code",
   "execution_count": 2,
   "metadata": {
    "id": "BOjujz601HcS"
   },
   "outputs": [
    {
     "name": "stderr",
     "output_type": "stream",
     "text": [
      "2022-09-06 19:38:02.708849: W tensorflow/stream_executor/platform/default/dso_loader.cc:64] Could not load dynamic library 'libcudart.so.11.0'; dlerror: libcudart.so.11.0: cannot open shared object file: No such file or directory\n",
      "2022-09-06 19:38:02.708867: I tensorflow/stream_executor/cuda/cudart_stub.cc:29] Ignore above cudart dlerror if you do not have a GPU set up on your machine.\n"
     ]
    }
   ],
   "source": [
    "import tensorflow as tf\n",
    "import numpy as np\n",
    "import matplotlib.pyplot as plt"
   ]
  },
  {
   "cell_type": "markdown",
   "metadata": {
    "id": "kD7RQQ0xGQVH"
   },
   "source": [
    "## Utilities"
   ]
  },
  {
   "cell_type": "code",
   "execution_count": 3,
   "metadata": {
    "id": "Zswl7jRtGzkk"
   },
   "outputs": [],
   "source": [
    "def plot_series(time, series, format=\"-\", start=0, end=None):\n",
    "    \"\"\"\n",
    "    Visualizes time series data\n",
    "\n",
    "    Args:\n",
    "      time (array of int) - contains the time steps\n",
    "      series (array of int) - contains the measurements for each time step\n",
    "      format - line style when plotting the graph\n",
    "      start - first time step to plot\n",
    "      end - last time step to plot\n",
    "    \"\"\"\n",
    "\n",
    "    # Setup dimensions of the graph figure\n",
    "    plt.figure(figsize=(10, 6))\n",
    "    \n",
    "    if type(series) is tuple:\n",
    "\n",
    "      for series_num in series:\n",
    "        # Plot the time series data\n",
    "        plt.plot(time[start:end], series_num[start:end], format)\n",
    "\n",
    "    else:\n",
    "      # Plot the time series data\n",
    "      plt.plot(time[start:end], series[start:end], format)\n",
    "\n",
    "    # Label the x-axis\n",
    "    plt.xlabel(\"Time\")\n",
    "\n",
    "    # Label the y-axis\n",
    "    plt.ylabel(\"Value\")\n",
    "\n",
    "    # Overlay a grid on the graph\n",
    "    plt.grid(True)\n",
    "\n",
    "    # Draw the graph on screen\n",
    "    plt.show()\n",
    "\n",
    "def trend(time, slope=0):\n",
    "    \"\"\"\n",
    "    Generates synthetic data that follows a straight line given a slope value.\n",
    "\n",
    "    Args:\n",
    "      time (array of int) - contains the time steps\n",
    "      slope (float) - determines the direction and steepness of the line\n",
    "\n",
    "    Returns:\n",
    "      series (array of float) - measurements that follow a straight line\n",
    "    \"\"\"\n",
    "\n",
    "    # Compute the linear series given the slope\n",
    "    series = slope * time\n",
    "\n",
    "    return series\n",
    "\n",
    "def seasonal_pattern(season_time):\n",
    "    \"\"\"\n",
    "    Just an arbitrary pattern, you can change it if you wish\n",
    "    \n",
    "    Args:\n",
    "      season_time (array of float) - contains the measurements per time step\n",
    "\n",
    "    Returns:\n",
    "      data_pattern (array of float) -  contains revised measurement values according \n",
    "                                  to the defined pattern\n",
    "    \"\"\"\n",
    "\n",
    "    # Generate the values using an arbitrary pattern\n",
    "    data_pattern = np.where(season_time < 0.4,\n",
    "                    np.cos(season_time * 2 * np.pi),\n",
    "                    1 / np.exp(3 * season_time))\n",
    "    \n",
    "    return data_pattern\n",
    "\n",
    "def seasonality(time, period, amplitude=1, phase=0):\n",
    "    \"\"\"\n",
    "    Repeats the same pattern at each period\n",
    "\n",
    "    Args:\n",
    "      time (array of int) - contains the time steps\n",
    "      period (int) - number of time steps before the pattern repeats\n",
    "      amplitude (int) - peak measured value in a period\n",
    "      phase (int) - number of time steps to shift the measured values\n",
    "\n",
    "    Returns:\n",
    "      data_pattern (array of float) - seasonal data scaled by the defined amplitude\n",
    "    \"\"\"\n",
    "    \n",
    "    # Define the measured values per period\n",
    "    season_time = ((time + phase) % period) / period\n",
    "\n",
    "    # Generates the seasonal data scaled by the defined amplitude\n",
    "    data_pattern = amplitude * seasonal_pattern(season_time)\n",
    "\n",
    "    return data_pattern\n",
    "\n",
    "def noise(time, noise_level=1, seed=None):\n",
    "    \"\"\"Generates a normally distributed noisy signal\n",
    "\n",
    "    Args:\n",
    "      time (array of int) - contains the time steps\n",
    "      noise_level (float) - scaling factor for the generated signal\n",
    "      seed (int) - number generator seed for repeatability\n",
    "\n",
    "    Returns:\n",
    "      noise (array of float) - the noisy signal\n",
    "    \"\"\"\n",
    "\n",
    "    # Initialize the random number generator\n",
    "    rnd = np.random.RandomState(seed)\n",
    "\n",
    "    # Generate a random number for each time step and scale by the noise level\n",
    "    noise = rnd.randn(len(time)) * noise_level\n",
    "    \n",
    "    return noise"
   ]
  },
  {
   "cell_type": "markdown",
   "metadata": {
    "id": "yxNyeFWjGSdj"
   },
   "source": [
    "## Generate the Synthetic Data"
   ]
  },
  {
   "cell_type": "code",
   "execution_count": 4,
   "metadata": {
    "id": "KYEUfDbdpHPm"
   },
   "outputs": [
    {
     "data": {
      "image/png": "[encoded data removed]",
      "text/plain": [
       "<Figure size 1000x600 with 1 Axes>"
      ]
     },
     "metadata": {},
     "output_type": "display_data"
    }
   ],
   "source": [
    "# Parameters\n",
    "time = np.arange(4 * 365 + 1, dtype=\"float32\")\n",
    "baseline = 10\n",
    "amplitude = 40\n",
    "slope = 0.05\n",
    "noise_level = 5\n",
    "\n",
    "# Create the series\n",
    "series = baseline + trend(time, slope) + seasonality(time, period=365, amplitude=amplitude)\n",
    "\n",
    "# Update with noise\n",
    "series += noise(time, noise_level, seed=42)\n",
    "\n",
    "# Plot the results\n",
    "plot_series(time, series)"
   ]
  },
  {
   "cell_type": "markdown",
   "metadata": {
    "id": "MYKCvv-eGWRc"
   },
   "source": [
    "## Split the Dataset"
   ]
  },
  {
   "cell_type": "code",
   "execution_count": 5,
   "metadata": {
    "id": "hpp0slenpKVD"
   },
   "outputs": [],
   "source": [
    "# Define the split time\n",
    "split_time = 1000\n",
    "\n",
    "# Get the train set \n",
    "time_train = time[:split_time]\n",
    "x_train = series[:split_time]\n",
    "\n",
    "# Get the validation set\n",
    "time_valid = time[split_time:]\n",
    "x_valid = series[split_time:]"
   ]
  },
  {
   "cell_type": "markdown",
   "metadata": {
    "id": "cktHz9aOGYtV"
   },
   "source": [
    "## Prepare Features and Labels"
   ]
  },
  {
   "cell_type": "code",
   "execution_count": 6,
   "metadata": {
    "id": "G_j_2_Mqwn7-"
   },
   "outputs": [],
   "source": [
    "# Parameters\n",
    "window_size = 20\n",
    "batch_size = 32\n",
    "shuffle_buffer_size = 1000"
   ]
  },
  {
   "cell_type": "code",
   "execution_count": 7,
   "metadata": {
    "id": "4sTTIOCbyShY"
   },
   "outputs": [],
   "source": [
    "def windowed_dataset(series, window_size, batch_size, shuffle_buffer):\n",
    "    \"\"\"Generates dataset windows\n",
    "\n",
    "    Args:\n",
    "      series (array of float) - contains the values of the time series\n",
    "      window_size (int) - the number of time steps to include in the feature\n",
    "      batch_size (int) - the batch size\n",
    "      shuffle_buffer(int) - buffer size to use for the shuffle method\n",
    "\n",
    "    Returns:\n",
    "      dataset (TF Dataset) - TF Dataset containing time windows\n",
    "    \"\"\"\n",
    "  \n",
    "    # Generate a TF Dataset from the series values\n",
    "    dataset = tf.data.Dataset.from_tensor_slices(series)\n",
    "    \n",
    "    # Window the data but only take those with the specified size\n",
    "    dataset = dataset.window(window_size + 1, shift=1, drop_remainder=True)\n",
    "    \n",
    "    # Flatten the windows by putting its elements in a single batch\n",
    "    dataset = dataset.flat_map(lambda window: window.batch(window_size + 1))\n",
    "\n",
    "    # Create tuples with features and labels \n",
    "    dataset = dataset.map(lambda window: (window[:-1], window[-1]))\n",
    "\n",
    "    # Shuffle the windows\n",
    "    dataset = dataset.shuffle(shuffle_buffer)\n",
    "    \n",
    "    # Create batches of windows\n",
    "    dataset = dataset.batch(batch_size).prefetch(1)\n",
    "    \n",
    "    return dataset"
   ]
  },
  {
   "cell_type": "code",
   "execution_count": 8,
   "metadata": {
    "id": "vGj5-InSwtQQ"
   },
   "outputs": [
    {
     "name": "stderr",
     "output_type": "stream",
     "text": [
      "2022-09-06 19:38:04.865216: W tensorflow/stream_executor/platform/default/dso_loader.cc:64] Could not load dynamic library 'libcuda.so.1'; dlerror: libcuda.so.1: cannot open shared object file: No such file or directory\n",
      "2022-09-06 19:38:04.865236: W tensorflow/stream_executor/cuda/cuda_driver.cc:269] failed call to cuInit: UNKNOWN ERROR (303)\n",
      "2022-09-06 19:38:04.865249: I tensorflow/stream_executor/cuda/cuda_diagnostics.cc:156] kernel driver does not appear to be running on this host (lscr): /proc/driver/nvidia/version does not exist\n",
      "2022-09-06 19:38:04.865478: I tensorflow/core/platform/cpu_feature_guard.cc:151] This TensorFlow binary is optimized with oneAPI Deep Neural Network Library (oneDNN) to use the following CPU instructions in performance-critical operations:  AVX2 AVX512F FMA\n",
      "To enable them in other operations, rebuild TensorFlow with the appropriate compiler flags.\n"
     ]
    }
   ],
   "source": [
    "# Generate the dataset windows\n",
    "dataset = windowed_dataset(x_train, window_size, batch_size, shuffle_buffer_size)"
   ]
  },
  {
   "cell_type": "markdown",
   "metadata": {
    "id": "p9-Ke8ZaGcjd"
   },
   "source": [
    "## Build the Model\n",
    "\n",
    "As mentioned, you will swap `SimpleRNN` for `LSTM` in this lab. It is also set as bidirectional below but feel free to revise later and see what results you get. LSTMs are much more complex in their internal architecture than simpleRNNs. It implements a cell state that allows it to remember sequences better than simple implementations. This added complexity results in a bigger set of parameters to train and you'll see that when you print the model summary below."
   ]
  },
  {
   "cell_type": "code",
   "execution_count": 9,
   "metadata": {
    "id": "A1Hl39rklkLm"
   },
   "outputs": [
    {
     "name": "stdout",
     "output_type": "stream",
     "text": [
      "Model: \"sequential\"\n",
      "_________________________________________________________________\n",
      " Layer (type)                Output Shape              Param #   \n",
      "=================================================================\n",
      " lambda (Lambda)             (None, 20, 1)             0         \n",
      "                                                                 \n",
      " bidirectional (Bidirectiona  (None, 20, 64)           8704      \n",
      " l)                                                              \n",
      "                                                                 \n",
      " bidirectional_1 (Bidirectio  (None, 64)               24832     \n",
      " nal)                                                            \n",
      "                                                                 \n",
      " dense (Dense)               (None, 1)                 65        \n",
      "                                                                 \n",
      " lambda_1 (Lambda)           (None, 1)                 0         \n",
      "                                                                 \n",
      "=================================================================\n",
      "Total params: 33,601\n",
      "Trainable params: 33,601\n",
      "Non-trainable params: 0\n",
      "_________________________________________________________________\n"
     ]
    }
   ],
   "source": [
    "# Build the Model\n",
    "model_tune = tf.keras.models.Sequential([\n",
    "  tf.keras.layers.Lambda(lambda x: tf.expand_dims(x, axis=-1),\n",
    "                      input_shape=[window_size]),\n",
    "    tf.keras.layers.Bidirectional(tf.keras.layers.LSTM(32, return_sequences=True)),\n",
    "  tf.keras.layers.Bidirectional(tf.keras.layers.LSTM(32)),\n",
    "  tf.keras.layers.Dense(1),\n",
    "  tf.keras.layers.Lambda(lambda x: x * 100.0)\n",
    "])\n",
    "\n",
    "# Print the model summary\n",
    "model_tune.summary()"
   ]
  },
  {
   "cell_type": "markdown",
   "metadata": {
    "id": "FHaFblbwq0GV"
   },
   "source": [
    "## Tune the Learning Rate\n",
    "\n",
    "As usual, you will pick a learning rate by running the tuning code below."
   ]
  },
  {
   "cell_type": "code",
   "execution_count": 10,
   "metadata": {
    "id": "qE7al18qw48G"
   },
   "outputs": [
    {
     "name": "stdout",
     "output_type": "stream",
     "text": [
      "Epoch 1/100\n",
      "31/31 [==============================] - 6s 27ms/step - loss: 62.1560 - lr: 1.0000e-08\n",
      "Epoch 2/100\n",
      "31/31 [==============================] - 1s 16ms/step - loss: 61.4796 - lr: 1.1220e-08\n",
      "Epoch 3/100\n",
      "31/31 [==============================] - 1s 15ms/step - loss: 60.6594 - lr: 1.2589e-08\n",
      "Epoch 4/100\n",
      "31/31 [==============================] - 1s 16ms/step - loss: 59.7349 - lr: 1.4125e-08\n",
      "Epoch 5/100\n",
      "31/31 [==============================] - 1s 14ms/step - loss: 58.6936 - lr: 1.5849e-08\n",
      "Epoch 6/100\n",
      "31/31 [==============================] - 0s 13ms/step - loss: 57.5238 - lr: 1.7783e-08\n",
      "Epoch 7/100\n",
      "31/31 [==============================] - 1s 17ms/step - loss: 56.2043 - lr: 1.9953e-08\n",
      "Epoch 8/100\n",
      "31/31 [==============================] - 1s 16ms/step - loss: 54.7189 - lr: 2.2387e-08\n",
      "Epoch 9/100\n",
      "31/31 [==============================] - 1s 17ms/step - loss: 53.0482 - lr: 2.5119e-08\n",
      "Epoch 10/100\n",
      "31/31 [==============================] - 1s 17ms/step - loss: 51.1674 - lr: 2.8184e-08\n",
      "Epoch 11/100\n",
      "31/31 [==============================] - 0s 14ms/step - loss: 49.0502 - lr: 3.1623e-08\n",
      "Epoch 12/100\n",
      "31/31 [==============================] - 1s 15ms/step - loss: 46.6647 - lr: 3.5481e-08\n",
      "Epoch 13/100\n",
      "31/31 [==============================] - 1s 15ms/step - loss: 43.9755 - lr: 3.9811e-08\n",
      "Epoch 14/100\n",
      "31/31 [==============================] - 1s 15ms/step - loss: 40.9644 - lr: 4.4668e-08\n",
      "Epoch 15/100\n",
      "31/31 [==============================] - 1s 15ms/step - loss: 37.5761 - lr: 5.0119e-08\n",
      "Epoch 16/100\n",
      "31/31 [==============================] - 1s 18ms/step - loss: 33.8898 - lr: 5.6234e-08\n",
      "Epoch 17/100\n",
      "31/31 [==============================] - 1s 17ms/step - loss: 29.9297 - lr: 6.3096e-08\n",
      "Epoch 18/100\n",
      "31/31 [==============================] - 1s 16ms/step - loss: 25.8963 - lr: 7.0795e-08\n",
      "Epoch 19/100\n",
      "31/31 [==============================] - 1s 15ms/step - loss: 21.8024 - lr: 7.9433e-08\n",
      "Epoch 20/100\n",
      "31/31 [==============================] - 1s 15ms/step - loss: 18.2430 - lr: 8.9125e-08\n",
      "Epoch 21/100\n",
      "31/31 [==============================] - 1s 16ms/step - loss: 15.7304 - lr: 1.0000e-07\n",
      "Epoch 22/100\n",
      "31/31 [==============================] - 1s 16ms/step - loss: 14.3504 - lr: 1.1220e-07\n",
      "Epoch 23/100\n",
      "31/31 [==============================] - 1s 15ms/step - loss: 13.5143 - lr: 1.2589e-07\n",
      "Epoch 24/100\n",
      "31/31 [==============================] - 1s 16ms/step - loss: 12.9236 - lr: 1.4125e-07\n",
      "Epoch 25/100\n",
      "31/31 [==============================] - 0s 13ms/step - loss: 12.5417 - lr: 1.5849e-07\n",
      "Epoch 26/100\n",
      "31/31 [==============================] - 1s 17ms/step - loss: 12.2511 - lr: 1.7783e-07\n",
      "Epoch 27/100\n",
      "31/31 [==============================] - 1s 16ms/step - loss: 11.9888 - lr: 1.9953e-07\n",
      "Epoch 28/100\n",
      "31/31 [==============================] - 0s 14ms/step - loss: 11.7326 - lr: 2.2387e-07\n",
      "Epoch 29/100\n",
      "31/31 [==============================] - 1s 16ms/step - loss: 11.4451 - lr: 2.5119e-07\n",
      "Epoch 30/100\n",
      "31/31 [==============================] - 0s 13ms/step - loss: 11.1330 - lr: 2.8184e-07\n",
      "Epoch 31/100\n",
      "31/31 [==============================] - 0s 14ms/step - loss: 10.7860 - lr: 3.1623e-07\n",
      "Epoch 32/100\n",
      "31/31 [==============================] - 1s 15ms/step - loss: 10.3992 - lr: 3.5481e-07\n",
      "Epoch 33/100\n",
      "31/31 [==============================] - 1s 16ms/step - loss: 9.9684 - lr: 3.9811e-07\n",
      "Epoch 34/100\n",
      "31/31 [==============================] - 1s 15ms/step - loss: 9.4989 - lr: 4.4668e-07\n",
      "Epoch 35/100\n",
      "31/31 [==============================] - 1s 16ms/step - loss: 9.0023 - lr: 5.0119e-07\n",
      "Epoch 36/100\n",
      "31/31 [==============================] - 1s 15ms/step - loss: 8.4694 - lr: 5.6234e-07\n",
      "Epoch 37/100\n",
      "31/31 [==============================] - 1s 16ms/step - loss: 7.9685 - lr: 6.3096e-07\n",
      "Epoch 38/100\n",
      "31/31 [==============================] - 1s 16ms/step - loss: 7.5027 - lr: 7.0795e-07\n",
      "Epoch 39/100\n",
      "31/31 [==============================] - 1s 15ms/step - loss: 7.1152 - lr: 7.9433e-07\n",
      "Epoch 40/100\n",
      "31/31 [==============================] - 1s 16ms/step - loss: 6.7486 - lr: 8.9125e-07\n",
      "Epoch 41/100\n",
      "31/31 [==============================] - 1s 16ms/step - loss: 6.4322 - lr: 1.0000e-06\n",
      "Epoch 42/100\n",
      "31/31 [==============================] - 1s 19ms/step - loss: 6.2098 - lr: 1.1220e-06\n",
      "Epoch 43/100\n",
      "31/31 [==============================] - 1s 16ms/step - loss: 6.0374 - lr: 1.2589e-06\n",
      "Epoch 44/100\n",
      "31/31 [==============================] - 1s 18ms/step - loss: 5.8834 - lr: 1.4125e-06\n",
      "Epoch 45/100\n",
      "31/31 [==============================] - 1s 17ms/step - loss: 5.8212 - lr: 1.5849e-06\n",
      "Epoch 46/100\n",
      "31/31 [==============================] - 1s 16ms/step - loss: 5.7835 - lr: 1.7783e-06\n",
      "Epoch 47/100\n",
      "31/31 [==============================] - 1s 16ms/step - loss: 5.7360 - lr: 1.9953e-06\n",
      "Epoch 48/100\n",
      "31/31 [==============================] - 1s 16ms/step - loss: 5.6057 - lr: 2.2387e-06\n",
      "Epoch 49/100\n",
      "31/31 [==============================] - 1s 15ms/step - loss: 5.5877 - lr: 2.5119e-06\n",
      "Epoch 50/100\n",
      "31/31 [==============================] - 1s 16ms/step - loss: 5.5133 - lr: 2.8184e-06\n",
      "Epoch 51/100\n",
      "31/31 [==============================] - 1s 16ms/step - loss: 5.5156 - lr: 3.1623e-06\n",
      "Epoch 52/100\n",
      "31/31 [==============================] - 1s 15ms/step - loss: 5.4276 - lr: 3.5481e-06\n",
      "Epoch 53/100\n",
      "31/31 [==============================] - 0s 14ms/step - loss: 5.3795 - lr: 3.9811e-06\n",
      "Epoch 54/100\n",
      "31/31 [==============================] - 1s 17ms/step - loss: 5.4764 - lr: 4.4668e-06\n",
      "Epoch 55/100\n",
      "31/31 [==============================] - 0s 14ms/step - loss: 5.1677 - lr: 5.0119e-06\n",
      "Epoch 56/100\n",
      "31/31 [==============================] - 0s 14ms/step - loss: 5.1463 - lr: 5.6234e-06\n",
      "Epoch 57/100\n",
      "31/31 [==============================] - 1s 16ms/step - loss: 5.0928 - lr: 6.3096e-06\n",
      "Epoch 58/100\n",
      "31/31 [==============================] - 1s 16ms/step - loss: 5.4002 - lr: 7.0795e-06\n",
      "Epoch 59/100\n",
      "31/31 [==============================] - 1s 14ms/step - loss: 5.2625 - lr: 7.9433e-06\n",
      "Epoch 60/100\n",
      "31/31 [==============================] - 0s 14ms/step - loss: 5.1343 - lr: 8.9125e-06\n",
      "Epoch 61/100\n",
      "31/31 [==============================] - 1s 15ms/step - loss: 5.2386 - lr: 1.0000e-05\n",
      "Epoch 62/100\n",
      "31/31 [==============================] - 1s 15ms/step - loss: 4.8508 - lr: 1.1220e-05\n",
      "Epoch 63/100\n",
      "31/31 [==============================] - 0s 12ms/step - loss: 4.9739 - lr: 1.2589e-05\n",
      "Epoch 64/100\n",
      "31/31 [==============================] - 1s 15ms/step - loss: 4.8013 - lr: 1.4125e-05\n",
      "Epoch 65/100\n",
      "31/31 [==============================] - 1s 16ms/step - loss: 5.1852 - lr: 1.5849e-05\n",
      "Epoch 66/100\n",
      "31/31 [==============================] - 1s 16ms/step - loss: 4.7158 - lr: 1.7783e-05\n",
      "Epoch 67/100\n",
      "31/31 [==============================] - 1s 17ms/step - loss: 4.7609 - lr: 1.9953e-05\n",
      "Epoch 68/100\n",
      "31/31 [==============================] - 1s 16ms/step - loss: 5.1121 - lr: 2.2387e-05\n",
      "Epoch 69/100\n",
      "31/31 [==============================] - 1s 16ms/step - loss: 5.2187 - lr: 2.5119e-05\n",
      "Epoch 70/100\n",
      "31/31 [==============================] - 1s 15ms/step - loss: 5.9447 - lr: 2.8184e-05\n",
      "Epoch 71/100\n",
      "31/31 [==============================] - 1s 17ms/step - loss: 5.8310 - lr: 3.1623e-05\n",
      "Epoch 72/100\n",
      "31/31 [==============================] - 1s 18ms/step - loss: 6.1326 - lr: 3.5481e-05\n",
      "Epoch 73/100\n",
      "31/31 [==============================] - 1s 17ms/step - loss: 5.3807 - lr: 3.9811e-05\n",
      "Epoch 74/100\n",
      "31/31 [==============================] - 1s 17ms/step - loss: 5.4679 - lr: 4.4668e-05\n",
      "Epoch 75/100\n",
      "31/31 [==============================] - 1s 17ms/step - loss: 4.8702 - lr: 5.0119e-05\n",
      "Epoch 76/100\n",
      "31/31 [==============================] - 1s 17ms/step - loss: 5.5357 - lr: 5.6234e-05\n",
      "Epoch 77/100\n",
      "31/31 [==============================] - 1s 15ms/step - loss: 5.4015 - lr: 6.3096e-05\n",
      "Epoch 78/100\n",
      "31/31 [==============================] - 1s 16ms/step - loss: 6.6559 - lr: 7.0795e-05\n",
      "Epoch 79/100\n",
      "31/31 [==============================] - 1s 18ms/step - loss: 5.3068 - lr: 7.9433e-05\n",
      "Epoch 80/100\n",
      "31/31 [==============================] - 1s 15ms/step - loss: 6.8801 - lr: 8.9125e-05\n",
      "Epoch 81/100\n",
      "31/31 [==============================] - 1s 18ms/step - loss: 8.8476 - lr: 1.0000e-04\n",
      "Epoch 82/100\n",
      "31/31 [==============================] - 1s 18ms/step - loss: 6.4198 - lr: 1.1220e-04\n",
      "Epoch 83/100\n",
      "31/31 [==============================] - 1s 17ms/step - loss: 5.8955 - lr: 1.2589e-04\n",
      "Epoch 84/100\n",
      "31/31 [==============================] - 1s 16ms/step - loss: 6.9328 - lr: 1.4125e-04\n",
      "Epoch 85/100\n",
      "31/31 [==============================] - 1s 17ms/step - loss: 9.3843 - lr: 1.5849e-04\n",
      "Epoch 86/100\n",
      "31/31 [==============================] - 1s 17ms/step - loss: 6.2319 - lr: 1.7783e-04\n",
      "Epoch 87/100\n",
      "31/31 [==============================] - 1s 16ms/step - loss: 6.3895 - lr: 1.9953e-04\n",
      "Epoch 88/100\n",
      "31/31 [==============================] - 1s 16ms/step - loss: 6.5354 - lr: 2.2387e-04\n",
      "Epoch 89/100\n",
      "31/31 [==============================] - 1s 16ms/step - loss: 6.7644 - lr: 2.5119e-04\n",
      "Epoch 90/100\n",
      "31/31 [==============================] - 1s 16ms/step - loss: 8.5284 - lr: 2.8184e-04\n",
      "Epoch 91/100\n",
      "31/31 [==============================] - 1s 16ms/step - loss: 7.4557 - lr: 3.1623e-04\n",
      "Epoch 92/100\n",
      "31/31 [==============================] - 0s 11ms/step - loss: 6.9290 - lr: 3.5481e-04\n",
      "Epoch 93/100\n",
      "31/31 [==============================] - 0s 12ms/step - loss: 9.1514 - lr: 3.9811e-04\n",
      "Epoch 94/100\n",
      "31/31 [==============================] - 0s 13ms/step - loss: 7.9747 - lr: 4.4668e-04\n",
      "Epoch 95/100\n",
      "31/31 [==============================] - 0s 13ms/step - loss: 9.2761 - lr: 5.0119e-04\n",
      "Epoch 96/100\n",
      "31/31 [==============================] - 0s 14ms/step - loss: 8.0050 - lr: 5.6234e-04\n",
      "Epoch 97/100\n",
      "31/31 [==============================] - 0s 14ms/step - loss: 9.0947 - lr: 6.3096e-04\n",
      "Epoch 98/100\n",
      "31/31 [==============================] - 1s 16ms/step - loss: 13.7355 - lr: 7.0795e-04\n",
      "Epoch 99/100\n",
      "31/31 [==============================] - 0s 14ms/step - loss: 11.5163 - lr: 7.9433e-04\n",
      "Epoch 100/100\n",
      "31/31 [==============================] - 0s 13ms/step - loss: 12.3041 - lr: 8.9125e-04\n"
     ]
    }
   ],
   "source": [
    "# Set the learning rate scheduler\n",
    "lr_schedule = tf.keras.callbacks.LearningRateScheduler(\n",
    "    lambda epoch: 1e-8 * 10**(epoch / 20))\n",
    "\n",
    "# Initialize the optimizer\n",
    "optimizer = tf.keras.optimizers.SGD(momentum=0.9)\n",
    "\n",
    "# Set the training parameters\n",
    "model_tune.compile(loss=tf.keras.losses.Huber(), optimizer=optimizer)\n",
    "\n",
    "# Train the model\n",
    "history = model_tune.fit(dataset, epochs=100, callbacks=[lr_schedule])"
   ]
  },
  {
   "cell_type": "code",
   "execution_count": 11,
   "metadata": {
    "id": "AkBsrsXMzoWR"
   },
   "outputs": [
    {
     "data": {
      "text/plain": [
       "(1e-08, 0.001, 0.0, 30.0)"
      ]
     },
     "execution_count": 11,
     "metadata": {},
     "output_type": "execute_result"
    },
    {
     "data": {
      "image/png": "[encoded data removed]",
      "text/plain": [
       "<Figure size 1000x600 with 1 Axes>"
      ]
     },
     "metadata": {},
     "output_type": "display_data"
    }
   ],
   "source": [
    "# Define the learning rate array\n",
    "lrs = 1e-8 * (10 ** (np.arange(100) / 20))\n",
    "\n",
    "# Set the figure size\n",
    "plt.figure(figsize=(10, 6))\n",
    "\n",
    "# Set the grid\n",
    "plt.grid(True)\n",
    "\n",
    "# Plot the loss in log scale\n",
    "plt.semilogx(lrs, history.history[\"loss\"])\n",
    "\n",
    "# Increase the tickmarks size\n",
    "plt.tick_params('both', length=10, width=1, which='both')\n",
    "\n",
    "# Set the plot boundaries\n",
    "plt.axis([1e-8, 1e-3, 0, 30])"
   ]
  },
  {
   "cell_type": "markdown",
   "metadata": {
    "id": "i-lKNp4pq_w8"
   },
   "source": [
    "## Train the Model\n",
    "\n",
    "You can then proceed to train the model with your chosen learning rate. \n",
    "\n",
    "*Tip: When experimenting and you find yourself running different iterations of a model, you may want to use the [`clear_session()`](https://www.tensorflow.org/api_docs/python/tf/keras/backend/clear_session) method to declutter memory used by Keras. This is added in the first line below.*\n"
   ]
  },
  {
   "cell_type": "code",
   "execution_count": 12,
   "metadata": {
    "id": "4uh-97bpLZCA"
   },
   "outputs": [
    {
     "name": "stdout",
     "output_type": "stream",
     "text": [
      "Epoch 1/100\n",
      "31/31 [==============================] - 4s 16ms/step - loss: 16.8728 - mae: 17.3658\n",
      "Epoch 2/100\n",
      "31/31 [==============================] - 0s 13ms/step - loss: 11.8160 - mae: 12.3067\n",
      "Epoch 3/100\n",
      "31/31 [==============================] - 0s 14ms/step - loss: 8.4210 - mae: 8.9075\n",
      "Epoch 4/100\n",
      "31/31 [==============================] - 0s 15ms/step - loss: 6.9342 - mae: 7.4145\n",
      "Epoch 5/100\n",
      "31/31 [==============================] - 0s 13ms/step - loss: 6.4233 - mae: 6.9045\n",
      "Epoch 6/100\n",
      "31/31 [==============================] - 1s 15ms/step - loss: 6.3039 - mae: 6.7857\n",
      "Epoch 7/100\n",
      "31/31 [==============================] - 1s 15ms/step - loss: 6.1256 - mae: 6.6073\n",
      "Epoch 8/100\n",
      "31/31 [==============================] - 0s 12ms/step - loss: 5.9923 - mae: 6.4696\n",
      "Epoch 9/100\n",
      "31/31 [==============================] - 1s 16ms/step - loss: 5.9361 - mae: 6.4155\n",
      "Epoch 10/100\n",
      "31/31 [==============================] - 0s 14ms/step - loss: 5.8068 - mae: 6.2820\n",
      "Epoch 11/100\n",
      "31/31 [==============================] - 0s 13ms/step - loss: 5.7575 - mae: 6.2327\n",
      "Epoch 12/100\n",
      "31/31 [==============================] - 0s 15ms/step - loss: 5.6745 - mae: 6.1510\n",
      "Epoch 13/100\n",
      "31/31 [==============================] - 1s 15ms/step - loss: 5.5733 - mae: 6.0510\n",
      "Epoch 14/100\n",
      "31/31 [==============================] - 0s 13ms/step - loss: 5.5679 - mae: 6.0453\n",
      "Epoch 15/100\n",
      "31/31 [==============================] - 1s 21ms/step - loss: 5.4942 - mae: 5.9691\n",
      "Epoch 16/100\n",
      "31/31 [==============================] - 1s 17ms/step - loss: 5.4535 - mae: 5.9346\n",
      "Epoch 17/100\n",
      "31/31 [==============================] - 0s 14ms/step - loss: 5.3812 - mae: 5.8615\n",
      "Epoch 18/100\n",
      "31/31 [==============================] - 0s 12ms/step - loss: 5.3245 - mae: 5.8001\n",
      "Epoch 19/100\n",
      "31/31 [==============================] - 0s 14ms/step - loss: 5.3017 - mae: 5.7787\n",
      "Epoch 20/100\n",
      "31/31 [==============================] - 0s 12ms/step - loss: 5.2914 - mae: 5.7697\n",
      "Epoch 21/100\n",
      "31/31 [==============================] - 0s 12ms/step - loss: 5.3340 - mae: 5.8133\n",
      "Epoch 22/100\n",
      "31/31 [==============================] - 0s 13ms/step - loss: 5.1580 - mae: 5.6344\n",
      "Epoch 23/100\n",
      "31/31 [==============================] - 0s 14ms/step - loss: 5.1296 - mae: 5.6078\n",
      "Epoch 24/100\n",
      "31/31 [==============================] - 0s 13ms/step - loss: 5.3838 - mae: 5.8598\n",
      "Epoch 25/100\n",
      "31/31 [==============================] - 0s 13ms/step - loss: 5.1274 - mae: 5.6022\n",
      "Epoch 26/100\n",
      "31/31 [==============================] - 0s 12ms/step - loss: 5.0880 - mae: 5.5644\n",
      "Epoch 27/100\n",
      "31/31 [==============================] - 0s 11ms/step - loss: 5.0089 - mae: 5.4815\n",
      "Epoch 28/100\n",
      "31/31 [==============================] - 0s 12ms/step - loss: 4.9774 - mae: 5.4544\n",
      "Epoch 29/100\n",
      "31/31 [==============================] - 0s 11ms/step - loss: 4.9570 - mae: 5.4312\n",
      "Epoch 30/100\n",
      "31/31 [==============================] - 0s 11ms/step - loss: 5.0025 - mae: 5.4743\n",
      "Epoch 31/100\n",
      "31/31 [==============================] - 0s 11ms/step - loss: 4.9384 - mae: 5.4164\n",
      "Epoch 32/100\n",
      "31/31 [==============================] - 0s 12ms/step - loss: 5.1554 - mae: 5.6341\n",
      "Epoch 33/100\n",
      "31/31 [==============================] - 0s 12ms/step - loss: 4.9309 - mae: 5.4057\n",
      "Epoch 34/100\n",
      "31/31 [==============================] - 0s 12ms/step - loss: 5.0934 - mae: 5.5738\n",
      "Epoch 35/100\n",
      "31/31 [==============================] - 0s 14ms/step - loss: 4.9029 - mae: 5.3805\n",
      "Epoch 36/100\n",
      "31/31 [==============================] - 0s 12ms/step - loss: 4.8806 - mae: 5.3602\n",
      "Epoch 37/100\n",
      "31/31 [==============================] - 0s 12ms/step - loss: 4.7793 - mae: 5.2557\n",
      "Epoch 38/100\n",
      "31/31 [==============================] - 0s 13ms/step - loss: 4.8219 - mae: 5.2974\n",
      "Epoch 39/100\n",
      "31/31 [==============================] - 0s 12ms/step - loss: 4.7711 - mae: 5.2440\n",
      "Epoch 40/100\n",
      "31/31 [==============================] - 0s 12ms/step - loss: 4.7561 - mae: 5.2314\n",
      "Epoch 41/100\n",
      "31/31 [==============================] - 0s 12ms/step - loss: 4.7326 - mae: 5.2097\n",
      "Epoch 42/100\n",
      "31/31 [==============================] - 0s 12ms/step - loss: 4.8353 - mae: 5.3139\n",
      "Epoch 43/100\n",
      "31/31 [==============================] - 0s 12ms/step - loss: 4.8434 - mae: 5.3237\n",
      "Epoch 44/100\n",
      "31/31 [==============================] - 0s 12ms/step - loss: 4.7044 - mae: 5.1781\n",
      "Epoch 45/100\n",
      "31/31 [==============================] - 0s 13ms/step - loss: 4.7849 - mae: 5.2627\n",
      "Epoch 46/100\n",
      "31/31 [==============================] - 0s 12ms/step - loss: 4.7487 - mae: 5.2264\n",
      "Epoch 47/100\n",
      "31/31 [==============================] - 0s 12ms/step - loss: 4.6592 - mae: 5.1335\n",
      "Epoch 48/100\n",
      "31/31 [==============================] - 0s 12ms/step - loss: 4.6547 - mae: 5.1330\n",
      "Epoch 49/100\n",
      "31/31 [==============================] - 0s 13ms/step - loss: 4.6375 - mae: 5.1131\n",
      "Epoch 50/100\n",
      "31/31 [==============================] - 0s 13ms/step - loss: 4.6184 - mae: 5.0977\n",
      "Epoch 51/100\n",
      "31/31 [==============================] - 0s 12ms/step - loss: 4.6513 - mae: 5.1258\n",
      "Epoch 52/100\n",
      "31/31 [==============================] - 0s 12ms/step - loss: 4.5950 - mae: 5.0688\n",
      "Epoch 53/100\n",
      "31/31 [==============================] - 0s 12ms/step - loss: 4.6355 - mae: 5.1139\n",
      "Epoch 54/100\n",
      "31/31 [==============================] - 0s 12ms/step - loss: 4.5926 - mae: 5.0684\n",
      "Epoch 55/100\n",
      "31/31 [==============================] - 0s 12ms/step - loss: 4.5577 - mae: 5.0329\n",
      "Epoch 56/100\n",
      "31/31 [==============================] - 0s 13ms/step - loss: 4.6167 - mae: 5.0910\n",
      "Epoch 57/100\n",
      "31/31 [==============================] - 0s 12ms/step - loss: 4.6724 - mae: 5.1471\n",
      "Epoch 58/100\n",
      "31/31 [==============================] - 0s 12ms/step - loss: 4.6091 - mae: 5.0857\n",
      "Epoch 59/100\n",
      "31/31 [==============================] - 0s 13ms/step - loss: 4.6740 - mae: 5.1513\n",
      "Epoch 60/100\n",
      "31/31 [==============================] - 0s 12ms/step - loss: 4.6508 - mae: 5.1269\n",
      "Epoch 61/100\n",
      "31/31 [==============================] - 0s 12ms/step - loss: 4.6016 - mae: 5.0709\n",
      "Epoch 62/100\n",
      "31/31 [==============================] - 0s 12ms/step - loss: 4.5541 - mae: 5.0283\n",
      "Epoch 63/100\n",
      "31/31 [==============================] - 0s 12ms/step - loss: 4.5701 - mae: 5.0426\n",
      "Epoch 64/100\n",
      "31/31 [==============================] - 0s 13ms/step - loss: 4.5014 - mae: 4.9765\n",
      "Epoch 65/100\n",
      "31/31 [==============================] - 0s 12ms/step - loss: 4.4863 - mae: 4.9596\n",
      "Epoch 66/100\n",
      "31/31 [==============================] - 0s 13ms/step - loss: 4.5810 - mae: 5.0554\n",
      "Epoch 67/100\n",
      "31/31 [==============================] - 0s 12ms/step - loss: 4.4736 - mae: 4.9487\n",
      "Epoch 68/100\n",
      "31/31 [==============================] - 0s 12ms/step - loss: 4.4635 - mae: 4.9400\n",
      "Epoch 69/100\n",
      "31/31 [==============================] - 0s 12ms/step - loss: 4.4832 - mae: 4.9609\n",
      "Epoch 70/100\n",
      "31/31 [==============================] - 0s 12ms/step - loss: 4.5032 - mae: 4.9823\n",
      "Epoch 71/100\n",
      "31/31 [==============================] - 0s 13ms/step - loss: 4.4905 - mae: 4.9690\n",
      "Epoch 72/100\n",
      "31/31 [==============================] - 0s 13ms/step - loss: 4.4764 - mae: 4.9495\n",
      "Epoch 73/100\n",
      "31/31 [==============================] - 0s 12ms/step - loss: 4.5576 - mae: 5.0306\n",
      "Epoch 74/100\n",
      "31/31 [==============================] - 0s 12ms/step - loss: 4.4669 - mae: 4.9394\n",
      "Epoch 75/100\n",
      "31/31 [==============================] - 0s 12ms/step - loss: 4.5155 - mae: 4.9913\n",
      "Epoch 76/100\n",
      "31/31 [==============================] - 0s 12ms/step - loss: 4.4719 - mae: 4.9481\n",
      "Epoch 77/100\n",
      "31/31 [==============================] - 0s 13ms/step - loss: 4.4844 - mae: 4.9628\n",
      "Epoch 78/100\n",
      "31/31 [==============================] - 0s 12ms/step - loss: 4.4354 - mae: 4.9112\n",
      "Epoch 79/100\n",
      "31/31 [==============================] - 0s 12ms/step - loss: 4.4427 - mae: 4.9187\n",
      "Epoch 80/100\n",
      "31/31 [==============================] - 0s 12ms/step - loss: 4.4834 - mae: 4.9649\n",
      "Epoch 81/100\n",
      "31/31 [==============================] - 0s 14ms/step - loss: 4.4751 - mae: 4.9545\n",
      "Epoch 82/100\n",
      "31/31 [==============================] - 0s 12ms/step - loss: 4.4925 - mae: 4.9676\n",
      "Epoch 83/100\n",
      "31/31 [==============================] - 0s 13ms/step - loss: 4.4168 - mae: 4.8898\n",
      "Epoch 84/100\n",
      "31/31 [==============================] - 0s 12ms/step - loss: 4.4359 - mae: 4.9140\n",
      "Epoch 85/100\n",
      "31/31 [==============================] - 0s 12ms/step - loss: 4.4348 - mae: 4.9109\n",
      "Epoch 86/100\n",
      "31/31 [==============================] - 0s 12ms/step - loss: 4.5420 - mae: 5.0162\n",
      "Epoch 87/100\n",
      "31/31 [==============================] - 0s 12ms/step - loss: 4.4398 - mae: 4.9122\n",
      "Epoch 88/100\n",
      "31/31 [==============================] - 0s 12ms/step - loss: 4.4438 - mae: 4.9216\n",
      "Epoch 89/100\n",
      "31/31 [==============================] - 0s 12ms/step - loss: 4.4084 - mae: 4.8831\n",
      "Epoch 90/100\n",
      "31/31 [==============================] - 0s 13ms/step - loss: 4.4303 - mae: 4.9070\n",
      "Epoch 91/100\n",
      "31/31 [==============================] - 0s 12ms/step - loss: 4.4277 - mae: 4.9012\n",
      "Epoch 92/100\n",
      "31/31 [==============================] - 0s 12ms/step - loss: 4.4224 - mae: 4.8971\n",
      "Epoch 93/100\n",
      "31/31 [==============================] - 0s 12ms/step - loss: 4.4478 - mae: 4.9237\n",
      "Epoch 94/100\n",
      "31/31 [==============================] - 0s 12ms/step - loss: 4.6777 - mae: 5.1497\n",
      "Epoch 95/100\n",
      "31/31 [==============================] - 0s 12ms/step - loss: 4.6157 - mae: 5.0929\n",
      "Epoch 96/100\n",
      "31/31 [==============================] - 0s 12ms/step - loss: 4.5759 - mae: 5.0509\n",
      "Epoch 97/100\n",
      "31/31 [==============================] - 0s 12ms/step - loss: 4.5214 - mae: 4.9984\n",
      "Epoch 98/100\n",
      "31/31 [==============================] - 0s 12ms/step - loss: 4.5849 - mae: 5.0545\n",
      "Epoch 99/100\n",
      "31/31 [==============================] - 0s 13ms/step - loss: 4.4047 - mae: 4.8839\n",
      "Epoch 100/100\n",
      "31/31 [==============================] - 0s 14ms/step - loss: 4.3955 - mae: 4.8721\n"
     ]
    }
   ],
   "source": [
    "# Reset states generated by Keras\n",
    "tf.keras.backend.clear_session()\n",
    "\n",
    "# Build the model\n",
    "model = tf.keras.models.Sequential([\n",
    "  tf.keras.layers.Lambda(lambda x: tf.expand_dims(x, axis=-1),\n",
    "                      input_shape=[None]),\n",
    "   tf.keras.layers.Bidirectional(tf.keras.layers.LSTM(32, return_sequences=True)),\n",
    "  tf.keras.layers.Bidirectional(tf.keras.layers.LSTM(32)),\n",
    "  tf.keras.layers.Dense(1),\n",
    "  tf.keras.layers.Lambda(lambda x: x * 100.0)\n",
    "])\n",
    "\n",
    "# Set the learning rate\n",
    "learning_rate = 2e-6\n",
    "\n",
    "# Set the optimizer \n",
    "optimizer = tf.keras.optimizers.SGD(learning_rate=learning_rate, momentum=0.9)\n",
    "\n",
    "# Set the training parameters\n",
    "model.compile(loss=tf.keras.losses.Huber(),\n",
    "              optimizer=optimizer,\n",
    "              metrics=[\"mae\"])\n",
    "\n",
    "# Train the model\n",
    "history = model.fit(dataset,epochs=100)"
   ]
  },
  {
   "cell_type": "markdown",
   "metadata": {
    "id": "RjP4kbGiI7cw"
   },
   "source": [
    "## Model Prediction\n",
    "\n",
    "You will then generate batches of windows to generate predictions that align with the validation set."
   ]
  },
  {
   "cell_type": "code",
   "execution_count": 13,
   "metadata": {
    "id": "QO8cfKwKBBG6"
   },
   "outputs": [],
   "source": [
    "def model_forecast(model, series, window_size, batch_size):\n",
    "    \"\"\"Uses an input model to generate predictions on data windows\n",
    "\n",
    "    Args:\n",
    "      model (TF Keras Model) - model that accepts data windows\n",
    "      series (array of float) - contains the values of the time series\n",
    "      window_size (int) - the number of time steps to include in the window\n",
    "      batch_size (int) - the batch size\n",
    "\n",
    "    Returns:\n",
    "      forecast (numpy array) - array containing predictions\n",
    "    \"\"\"\n",
    "\n",
    "    # Generate a TF Dataset from the series values\n",
    "    dataset = tf.data.Dataset.from_tensor_slices(series)\n",
    "\n",
    "    # Window the data but only take those with the specified size\n",
    "    dataset = dataset.window(window_size, shift=1, drop_remainder=True)\n",
    "\n",
    "    # Flatten the windows by putting its elements in a single batch\n",
    "    dataset = dataset.flat_map(lambda w: w.batch(window_size))\n",
    "    \n",
    "    # Create batches of windows\n",
    "    dataset = dataset.batch(batch_size).prefetch(1)\n",
    "    \n",
    "    # Get predictions on the entire dataset\n",
    "    forecast = model.predict(dataset)\n",
    "    \n",
    "    return forecast"
   ]
  },
  {
   "cell_type": "code",
   "execution_count": 14,
   "metadata": {
    "id": "_plB3UseBD8o"
   },
   "outputs": [
    {
     "data": {
      "image/png": "[encoded data removed]",
      "text/plain": [
       "<Figure size 1000x600 with 1 Axes>"
      ]
     },
     "metadata": {},
     "output_type": "display_data"
    }
   ],
   "source": [
    "# Reduce the original series\n",
    "forecast_series = series[split_time-window_size:-1]\n",
    "\n",
    "# Use helper function to generate predictions\n",
    "forecast = model_forecast(model, forecast_series, window_size, batch_size)\n",
    "\n",
    "# Drop single dimensional axis\n",
    "results = forecast.squeeze()\n",
    "\n",
    "# Plot the results\n",
    "plot_series(time_valid, (x_valid, results))"
   ]
  },
  {
   "cell_type": "markdown",
   "metadata": {
    "id": "Nn8iSQkZtaRC"
   },
   "source": [
    "You can then generate the metrics to evaluate the model's performance."
   ]
  },
  {
   "cell_type": "code",
   "execution_count": 15,
   "metadata": {
    "id": "-IKhueZaBGID"
   },
   "outputs": [
    {
     "name": "stdout",
     "output_type": "stream",
     "text": [
      "62.530952\n",
      "5.6511455\n"
     ]
    }
   ],
   "source": [
    "# Compute the MSE and MAE\n",
    "print(tf.keras.metrics.mean_squared_error(x_valid, results).numpy())\n",
    "print(tf.keras.metrics.mean_absolute_error(x_valid, results).numpy())"
   ]
  },
  {
   "cell_type": "markdown",
   "metadata": {
    "id": "bzPIqeMWvbPy"
   },
   "source": [
    "## Wrap Up\n",
    "\n",
    "This concludes this short exercise on using LSTMs for time series forecasting. Next week, you will build upon this and add convolutions. Then, you will start to move away from synthetic data and use real-world datasets. See you there!"
   ]
  },
  {
   "cell_type": "markdown",
   "metadata": {
    "id": "U5PqTePGHeMH"
   },
   "source": [
    "## Optional: Including a Validation Set while Training\n",
    "\n",
    "Back in the first course of this specialization, you saw how you can also monitor the performance of your model against a validation set while training. You can also do that for this lab. \n",
    "\n",
    "First, you need to generate a `val_set` which are data windows and labels that your model can accept. You can simply reuse the `windowed_dataset` function for that and you can pass in the `x_valid` points to generate the windows."
   ]
  },
  {
   "cell_type": "code",
   "execution_count": 16,
   "metadata": {
    "id": "kvFVwL3PC4iX"
   },
   "outputs": [],
   "source": [
    "# Generate data windows of the validation set\n",
    "val_set = windowed_dataset(x_valid, window_size, batch_size, shuffle_buffer_size)"
   ]
  },
  {
   "cell_type": "markdown",
   "metadata": {
    "id": "p68j6XxEvP9K"
   },
   "source": [
    "You can then do the same training as before but pass in the `val_set` to the `validation_data` parameter of the `fit()` method."
   ]
  },
  {
   "cell_type": "code",
   "execution_count": 17,
   "metadata": {
    "id": "wujKz6tXDSn0"
   },
   "outputs": [
    {
     "name": "stdout",
     "output_type": "stream",
     "text": [
      "Epoch 1/100\n",
      "31/31 [==============================] - 4s 41ms/step - loss: 30.8930 - mae: 31.3904 - val_loss: 24.0230 - val_mae: 24.5208\n",
      "Epoch 2/100\n",
      "31/31 [==============================] - 0s 14ms/step - loss: 14.0570 - mae: 14.5515 - val_loss: 32.1059 - val_mae: 32.6049\n",
      "Epoch 3/100\n",
      "31/31 [==============================] - 1s 15ms/step - loss: 10.1189 - mae: 10.6095 - val_loss: 25.0669 - val_mae: 25.5649\n",
      "Epoch 4/100\n",
      "31/31 [==============================] - 1s 15ms/step - loss: 7.9734 - mae: 8.4554 - val_loss: 20.5638 - val_mae: 21.0612\n",
      "Epoch 5/100\n",
      "31/31 [==============================] - 1s 15ms/step - loss: 7.1986 - mae: 7.6810 - val_loss: 17.2501 - val_mae: 17.7466\n",
      "Epoch 6/100\n",
      "31/31 [==============================] - 1s 15ms/step - loss: 6.7515 - mae: 7.2309 - val_loss: 14.9290 - val_mae: 15.4257\n",
      "Epoch 7/100\n",
      "31/31 [==============================] - 1s 15ms/step - loss: 6.3569 - mae: 6.8340 - val_loss: 13.4963 - val_mae: 13.9914\n",
      "Epoch 8/100\n",
      "31/31 [==============================] - 1s 15ms/step - loss: 6.1369 - mae: 6.6161 - val_loss: 12.2330 - val_mae: 12.7240\n",
      "Epoch 9/100\n",
      "31/31 [==============================] - 1s 15ms/step - loss: 5.9876 - mae: 6.4676 - val_loss: 10.0062 - val_mae: 10.4928\n",
      "Epoch 10/100\n",
      "31/31 [==============================] - 0s 14ms/step - loss: 5.7991 - mae: 6.2796 - val_loss: 10.1727 - val_mae: 10.6641\n",
      "Epoch 11/100\n",
      "31/31 [==============================] - 0s 15ms/step - loss: 5.6710 - mae: 6.1549 - val_loss: 8.9855 - val_mae: 9.4698\n",
      "Epoch 12/100\n",
      "31/31 [==============================] - 0s 14ms/step - loss: 5.5700 - mae: 6.0470 - val_loss: 8.5013 - val_mae: 8.9862\n",
      "Epoch 13/100\n",
      "31/31 [==============================] - 1s 15ms/step - loss: 5.4961 - mae: 5.9767 - val_loss: 8.0882 - val_mae: 8.5715\n",
      "Epoch 14/100\n",
      "31/31 [==============================] - 0s 14ms/step - loss: 5.3977 - mae: 5.8757 - val_loss: 7.8819 - val_mae: 8.3661\n",
      "Epoch 15/100\n",
      "31/31 [==============================] - 1s 17ms/step - loss: 5.3610 - mae: 5.8377 - val_loss: 8.2842 - val_mae: 8.7724\n",
      "Epoch 16/100\n",
      "31/31 [==============================] - 1s 16ms/step - loss: 5.3087 - mae: 5.7861 - val_loss: 8.1200 - val_mae: 8.6070\n",
      "Epoch 17/100\n",
      "31/31 [==============================] - 1s 16ms/step - loss: 5.2482 - mae: 5.7234 - val_loss: 7.0963 - val_mae: 7.5814\n",
      "Epoch 18/100\n",
      "31/31 [==============================] - 1s 16ms/step - loss: 5.1845 - mae: 5.6636 - val_loss: 7.8240 - val_mae: 8.3103\n",
      "Epoch 19/100\n",
      "31/31 [==============================] - 1s 17ms/step - loss: 5.1547 - mae: 5.6345 - val_loss: 7.2310 - val_mae: 7.7108\n",
      "Epoch 20/100\n",
      "31/31 [==============================] - 1s 15ms/step - loss: 5.1328 - mae: 5.6151 - val_loss: 6.9545 - val_mae: 7.4366\n",
      "Epoch 21/100\n",
      "31/31 [==============================] - 1s 15ms/step - loss: 5.1322 - mae: 5.6100 - val_loss: 7.6029 - val_mae: 8.0890\n",
      "Epoch 22/100\n",
      "31/31 [==============================] - 1s 16ms/step - loss: 5.1294 - mae: 5.6069 - val_loss: 7.7410 - val_mae: 8.2263\n",
      "Epoch 23/100\n",
      "31/31 [==============================] - 1s 15ms/step - loss: 5.0799 - mae: 5.5578 - val_loss: 6.8710 - val_mae: 7.3496\n",
      "Epoch 24/100\n",
      "31/31 [==============================] - 1s 15ms/step - loss: 5.0357 - mae: 5.5092 - val_loss: 7.4066 - val_mae: 7.8936\n",
      "Epoch 25/100\n",
      "31/31 [==============================] - 1s 15ms/step - loss: 4.9518 - mae: 5.4286 - val_loss: 7.1265 - val_mae: 7.6096\n",
      "Epoch 26/100\n",
      "31/31 [==============================] - 1s 16ms/step - loss: 4.9035 - mae: 5.3765 - val_loss: 6.2963 - val_mae: 6.7812\n",
      "Epoch 27/100\n",
      "31/31 [==============================] - 1s 17ms/step - loss: 5.0273 - mae: 5.5037 - val_loss: 6.2762 - val_mae: 6.7576\n",
      "Epoch 28/100\n",
      "31/31 [==============================] - 1s 15ms/step - loss: 5.0069 - mae: 5.4815 - val_loss: 6.7989 - val_mae: 7.2773\n",
      "Epoch 29/100\n",
      "31/31 [==============================] - 0s 14ms/step - loss: 5.0117 - mae: 5.4878 - val_loss: 6.4255 - val_mae: 6.9097\n",
      "Epoch 30/100\n",
      "31/31 [==============================] - 0s 14ms/step - loss: 4.9169 - mae: 5.3929 - val_loss: 6.3073 - val_mae: 6.7953\n",
      "Epoch 31/100\n",
      "31/31 [==============================] - 0s 14ms/step - loss: 4.9004 - mae: 5.3790 - val_loss: 6.2491 - val_mae: 6.7358\n",
      "Epoch 32/100\n",
      "31/31 [==============================] - 1s 16ms/step - loss: 4.9640 - mae: 5.4433 - val_loss: 6.2814 - val_mae: 6.7642\n",
      "Epoch 33/100\n",
      "31/31 [==============================] - 0s 14ms/step - loss: 4.8986 - mae: 5.3762 - val_loss: 6.7971 - val_mae: 7.2760\n",
      "Epoch 34/100\n",
      "31/31 [==============================] - 0s 14ms/step - loss: 4.7849 - mae: 5.2607 - val_loss: 6.4598 - val_mae: 6.9359\n",
      "Epoch 35/100\n",
      "31/31 [==============================] - 0s 15ms/step - loss: 4.9899 - mae: 5.4704 - val_loss: 7.0985 - val_mae: 7.5830\n",
      "Epoch 36/100\n",
      "31/31 [==============================] - 0s 14ms/step - loss: 4.8457 - mae: 5.3238 - val_loss: 6.8986 - val_mae: 7.3844\n",
      "Epoch 37/100\n",
      "31/31 [==============================] - 0s 14ms/step - loss: 4.7872 - mae: 5.2647 - val_loss: 6.9318 - val_mae: 7.4175\n",
      "Epoch 38/100\n",
      "31/31 [==============================] - 0s 14ms/step - loss: 4.8611 - mae: 5.3321 - val_loss: 7.9269 - val_mae: 8.4140\n",
      "Epoch 39/100\n",
      "31/31 [==============================] - 0s 14ms/step - loss: 4.7719 - mae: 5.2497 - val_loss: 6.1763 - val_mae: 6.6557\n",
      "Epoch 40/100\n",
      "31/31 [==============================] - 0s 14ms/step - loss: 4.7689 - mae: 5.2435 - val_loss: 5.8995 - val_mae: 6.3829\n",
      "Epoch 41/100\n",
      "31/31 [==============================] - 0s 14ms/step - loss: 4.6973 - mae: 5.1740 - val_loss: 7.3477 - val_mae: 7.8304\n",
      "Epoch 42/100\n",
      "31/31 [==============================] - 1s 15ms/step - loss: 4.7215 - mae: 5.1989 - val_loss: 6.1506 - val_mae: 6.6288\n",
      "Epoch 43/100\n",
      "31/31 [==============================] - 0s 14ms/step - loss: 4.6914 - mae: 5.1670 - val_loss: 6.7159 - val_mae: 7.2007\n",
      "Epoch 44/100\n",
      "31/31 [==============================] - 0s 14ms/step - loss: 4.6676 - mae: 5.1462 - val_loss: 5.8205 - val_mae: 6.3050\n",
      "Epoch 45/100\n",
      "31/31 [==============================] - 1s 15ms/step - loss: 4.7057 - mae: 5.1856 - val_loss: 6.1238 - val_mae: 6.6012\n",
      "Epoch 46/100\n",
      "31/31 [==============================] - 1s 18ms/step - loss: 4.7273 - mae: 5.2046 - val_loss: 6.5845 - val_mae: 7.0684\n",
      "Epoch 47/100\n",
      "31/31 [==============================] - 1s 17ms/step - loss: 4.6645 - mae: 5.1419 - val_loss: 5.8286 - val_mae: 6.3131\n",
      "Epoch 48/100\n",
      "31/31 [==============================] - 1s 15ms/step - loss: 4.7014 - mae: 5.1783 - val_loss: 6.2942 - val_mae: 6.7706\n",
      "Epoch 49/100\n",
      "31/31 [==============================] - 1s 18ms/step - loss: 4.6648 - mae: 5.1435 - val_loss: 6.3163 - val_mae: 6.7927\n",
      "Epoch 50/100\n",
      "31/31 [==============================] - 1s 19ms/step - loss: 4.6241 - mae: 5.0997 - val_loss: 5.7531 - val_mae: 6.2372\n",
      "Epoch 51/100\n",
      "31/31 [==============================] - 1s 18ms/step - loss: 4.6935 - mae: 5.1717 - val_loss: 5.6507 - val_mae: 6.1287\n",
      "Epoch 52/100\n",
      "31/31 [==============================] - 1s 17ms/step - loss: 4.6607 - mae: 5.1396 - val_loss: 5.9150 - val_mae: 6.3981\n",
      "Epoch 53/100\n",
      "31/31 [==============================] - 1s 17ms/step - loss: 4.7249 - mae: 5.2067 - val_loss: 5.5788 - val_mae: 6.0534\n",
      "Epoch 54/100\n",
      "31/31 [==============================] - 1s 16ms/step - loss: 4.6603 - mae: 5.1386 - val_loss: 5.6488 - val_mae: 6.1260\n",
      "Epoch 55/100\n",
      "31/31 [==============================] - 1s 17ms/step - loss: 4.6284 - mae: 5.1050 - val_loss: 6.1042 - val_mae: 6.5842\n",
      "Epoch 56/100\n",
      "31/31 [==============================] - 1s 17ms/step - loss: 4.7120 - mae: 5.1909 - val_loss: 6.0230 - val_mae: 6.5024\n",
      "Epoch 57/100\n",
      "31/31 [==============================] - 1s 16ms/step - loss: 4.7534 - mae: 5.2338 - val_loss: 6.8763 - val_mae: 7.3603\n",
      "Epoch 58/100\n",
      "31/31 [==============================] - 1s 16ms/step - loss: 4.6682 - mae: 5.1474 - val_loss: 5.5891 - val_mae: 6.0670\n",
      "Epoch 59/100\n",
      "31/31 [==============================] - 1s 16ms/step - loss: 4.8123 - mae: 5.2876 - val_loss: 5.5116 - val_mae: 5.9883\n",
      "Epoch 60/100\n",
      "31/31 [==============================] - 1s 16ms/step - loss: 4.7000 - mae: 5.1756 - val_loss: 5.5876 - val_mae: 6.0653\n",
      "Epoch 61/100\n",
      "31/31 [==============================] - 1s 15ms/step - loss: 4.6769 - mae: 5.1546 - val_loss: 6.2050 - val_mae: 6.6838\n",
      "Epoch 62/100\n",
      "31/31 [==============================] - 1s 18ms/step - loss: 4.6595 - mae: 5.1382 - val_loss: 6.0068 - val_mae: 6.4867\n",
      "Epoch 63/100\n",
      "31/31 [==============================] - 1s 17ms/step - loss: 4.7310 - mae: 5.2117 - val_loss: 6.2883 - val_mae: 6.7680\n",
      "Epoch 64/100\n",
      "31/31 [==============================] - 1s 17ms/step - loss: 4.6366 - mae: 5.1129 - val_loss: 5.5669 - val_mae: 6.0495\n",
      "Epoch 65/100\n",
      "31/31 [==============================] - 1s 15ms/step - loss: 4.6257 - mae: 5.1046 - val_loss: 5.6126 - val_mae: 6.0905\n",
      "Epoch 66/100\n",
      "31/31 [==============================] - 1s 16ms/step - loss: 4.6907 - mae: 5.1700 - val_loss: 5.5363 - val_mae: 6.0141\n",
      "Epoch 67/100\n",
      "31/31 [==============================] - 1s 15ms/step - loss: 4.6430 - mae: 5.1185 - val_loss: 6.9162 - val_mae: 7.3952\n",
      "Epoch 68/100\n",
      "31/31 [==============================] - 1s 15ms/step - loss: 4.5763 - mae: 5.0529 - val_loss: 6.5503 - val_mae: 7.0339\n",
      "Epoch 69/100\n",
      "31/31 [==============================] - 1s 15ms/step - loss: 4.6354 - mae: 5.1113 - val_loss: 5.8920 - val_mae: 6.3721\n",
      "Epoch 70/100\n",
      "31/31 [==============================] - 1s 16ms/step - loss: 4.6573 - mae: 5.1376 - val_loss: 5.4746 - val_mae: 5.9543\n",
      "Epoch 71/100\n",
      "31/31 [==============================] - 1s 16ms/step - loss: 4.5784 - mae: 5.0562 - val_loss: 6.2332 - val_mae: 6.7123\n",
      "Epoch 72/100\n",
      "31/31 [==============================] - 1s 16ms/step - loss: 4.6217 - mae: 5.1002 - val_loss: 6.4353 - val_mae: 6.9181\n",
      "Epoch 73/100\n",
      "31/31 [==============================] - 1s 16ms/step - loss: 4.7136 - mae: 5.1923 - val_loss: 6.1207 - val_mae: 6.6025\n",
      "Epoch 74/100\n",
      "31/31 [==============================] - 1s 15ms/step - loss: 4.6320 - mae: 5.1094 - val_loss: 5.4482 - val_mae: 5.9274\n",
      "Epoch 75/100\n",
      "31/31 [==============================] - 1s 15ms/step - loss: 4.5975 - mae: 5.0736 - val_loss: 5.4116 - val_mae: 5.8910\n",
      "Epoch 76/100\n",
      "31/31 [==============================] - 0s 14ms/step - loss: 4.6578 - mae: 5.1374 - val_loss: 6.3315 - val_mae: 6.8124\n",
      "Epoch 77/100\n",
      "31/31 [==============================] - 0s 14ms/step - loss: 4.6502 - mae: 5.1243 - val_loss: 5.6226 - val_mae: 6.1037\n",
      "Epoch 78/100\n",
      "31/31 [==============================] - 1s 15ms/step - loss: 4.5097 - mae: 4.9824 - val_loss: 6.7132 - val_mae: 7.1932\n",
      "Epoch 79/100\n",
      "31/31 [==============================] - 0s 15ms/step - loss: 4.7042 - mae: 5.1832 - val_loss: 6.5187 - val_mae: 6.9984\n",
      "Epoch 80/100\n",
      "31/31 [==============================] - 1s 15ms/step - loss: 4.6926 - mae: 5.1714 - val_loss: 5.6816 - val_mae: 6.1628\n",
      "Epoch 81/100\n",
      "31/31 [==============================] - 1s 15ms/step - loss: 4.5405 - mae: 5.0157 - val_loss: 5.8903 - val_mae: 6.3715\n",
      "Epoch 82/100\n",
      "31/31 [==============================] - 1s 15ms/step - loss: 4.5755 - mae: 5.0501 - val_loss: 5.4948 - val_mae: 5.9708\n",
      "Epoch 83/100\n",
      "31/31 [==============================] - 1s 15ms/step - loss: 4.6781 - mae: 5.1570 - val_loss: 5.7380 - val_mae: 6.2185\n",
      "Epoch 84/100\n",
      "31/31 [==============================] - 1s 16ms/step - loss: 4.5157 - mae: 4.9920 - val_loss: 5.8881 - val_mae: 6.3687\n",
      "Epoch 85/100\n",
      "31/31 [==============================] - 1s 15ms/step - loss: 4.5680 - mae: 5.0487 - val_loss: 5.4103 - val_mae: 5.8908\n",
      "Epoch 86/100\n",
      "31/31 [==============================] - 1s 16ms/step - loss: 4.6431 - mae: 5.1184 - val_loss: 6.2175 - val_mae: 6.6968\n",
      "Epoch 87/100\n",
      "31/31 [==============================] - 1s 15ms/step - loss: 4.5337 - mae: 5.0104 - val_loss: 5.5240 - val_mae: 6.0042\n",
      "Epoch 88/100\n",
      "31/31 [==============================] - 1s 15ms/step - loss: 4.5784 - mae: 5.0557 - val_loss: 5.7843 - val_mae: 6.2662\n",
      "Epoch 89/100\n",
      "31/31 [==============================] - 1s 15ms/step - loss: 4.5049 - mae: 4.9798 - val_loss: 5.3757 - val_mae: 5.8558\n",
      "Epoch 90/100\n",
      "31/31 [==============================] - 0s 15ms/step - loss: 4.5790 - mae: 5.0560 - val_loss: 5.6345 - val_mae: 6.1167\n",
      "Epoch 91/100\n",
      "31/31 [==============================] - 1s 15ms/step - loss: 4.5330 - mae: 5.0089 - val_loss: 5.3075 - val_mae: 5.7884\n",
      "Epoch 92/100\n",
      "31/31 [==============================] - 0s 15ms/step - loss: 4.5692 - mae: 5.0458 - val_loss: 5.2619 - val_mae: 5.7382\n",
      "Epoch 93/100\n",
      "31/31 [==============================] - 1s 15ms/step - loss: 4.5125 - mae: 4.9864 - val_loss: 5.6123 - val_mae: 6.0945\n",
      "Epoch 94/100\n",
      "31/31 [==============================] - 1s 15ms/step - loss: 4.4664 - mae: 4.9423 - val_loss: 5.3638 - val_mae: 5.8419\n",
      "Epoch 95/100\n",
      "31/31 [==============================] - 1s 15ms/step - loss: 4.5419 - mae: 5.0172 - val_loss: 5.3892 - val_mae: 5.8668\n",
      "Epoch 96/100\n",
      "31/31 [==============================] - 1s 16ms/step - loss: 4.5001 - mae: 4.9731 - val_loss: 5.4725 - val_mae: 5.9536\n",
      "Epoch 97/100\n",
      "31/31 [==============================] - 1s 15ms/step - loss: 4.5075 - mae: 4.9818 - val_loss: 5.2703 - val_mae: 5.7477\n",
      "Epoch 98/100\n",
      "31/31 [==============================] - 1s 15ms/step - loss: 4.5673 - mae: 5.0464 - val_loss: 6.2248 - val_mae: 6.7050\n",
      "Epoch 99/100\n",
      "31/31 [==============================] - 1s 15ms/step - loss: 4.5238 - mae: 5.0031 - val_loss: 5.7031 - val_mae: 6.1851\n",
      "Epoch 100/100\n",
      "31/31 [==============================] - 1s 15ms/step - loss: 4.6294 - mae: 5.1062 - val_loss: 6.4101 - val_mae: 6.8911\n"
     ]
    }
   ],
   "source": [
    "# Reset states generated by Keras\n",
    "tf.keras.backend.clear_session()\n",
    "\n",
    "# Build the model\n",
    "model = tf.keras.models.Sequential([\n",
    "  tf.keras.layers.Lambda(lambda x: tf.expand_dims(x, axis=-1),\n",
    "                      input_shape=[None]),\n",
    "   tf.keras.layers.Bidirectional(tf.keras.layers.LSTM(32, return_sequences=True)),\n",
    "  tf.keras.layers.Bidirectional(tf.keras.layers.LSTM(32)),\n",
    "  tf.keras.layers.Dense(1),\n",
    "  tf.keras.layers.Lambda(lambda x: x * 100.0)\n",
    "])\n",
    "\n",
    "# Set the learning rate\n",
    "learning_rate = 2e-6\n",
    "\n",
    "# Set the optimizer \n",
    "optimizer = tf.keras.optimizers.SGD(learning_rate=learning_rate, momentum=0.9)\n",
    "\n",
    "# Set the training parameters\n",
    "model.compile(loss=tf.keras.losses.Huber(),\n",
    "              optimizer=optimizer,\n",
    "              metrics=[\"mae\"])\n",
    "\n",
    "# Train the model\n",
    "history = model.fit(dataset,epochs=100, validation_data=val_set)"
   ]
  }
 ],
 "metadata": {
  "accelerator": "GPU",
  "colab": {
   "collapsed_sections": [],
   "name": "C4_W3_Lab_2_LSTM.ipynb",
   "private_outputs": true,
   "provenance": []
  },
  "kernelspec": {
   "display_name": "Python 3 (ipykernel)",
   "language": "python",
   "name": "python3"
  },
  "language_info": {
   "codemirror_mode": {
    "name": "ipython",
    "version": 3
   },
   "file_extension": ".py",
   "mimetype": "text/x-python",
   "name": "python",
   "nbconvert_exporter": "python",
   "pygments_lexer": "ipython3",
   "version": "3.8.12"
  }
 },
 "nbformat": 4,
 "nbformat_minor": 4
}
