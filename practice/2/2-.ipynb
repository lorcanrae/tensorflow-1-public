{
 "cells": [
  {
   "cell_type": "code",
   "execution_count": 17,
   "id": "a4fb0de7-fa4c-4fdf-afb3-ecfbbba0bd80",
   "metadata": {},
   "outputs": [],
   "source": [
    "import tensorflow as tf\n",
    "import numpy as np"
   ]
  },
  {
   "cell_type": "code",
   "execution_count": 18,
   "id": "5165c171-5e4f-4ca1-929e-56bf05ee3328",
   "metadata": {},
   "outputs": [],
   "source": [
    "mnist = tf.keras.datasets.mnist"
   ]
  },
  {
   "cell_type": "code",
   "execution_count": 19,
   "id": "0cfc7930-3c54-4838-a249-075069102af2",
   "metadata": {},
   "outputs": [],
   "source": [
    "# YOUR CODE HERE\n",
    "(X_train, y_train), (X_val, y_val) = mnist.load_data()"
   ]
  },
  {
   "cell_type": "code",
   "execution_count": 20,
   "id": "b8fe9b32-6457-4999-9a46-4a5e3267e3be",
   "metadata": {},
   "outputs": [
    {
     "data": {
      "text/plain": [
       "((60000, 28, 28), (60000,), (10000, 28, 28), (10000,))"
      ]
     },
     "execution_count": 20,
     "metadata": {},
     "output_type": "execute_result"
    }
   ],
   "source": [
    "X_train.shape, y_train.shape, X_val.shape, y_val.shape"
   ]
  },
  {
   "cell_type": "code",
   "execution_count": 24,
   "id": "03216024-be4c-4259-9da2-68bec0110060",
   "metadata": {},
   "outputs": [],
   "source": [
    "X_train = np.expand_dims(X_train, axis=-1)\n",
    "X_train = X_train / 255."
   ]
  },
  {
   "cell_type": "code",
   "execution_count": 25,
   "id": "be04321e-99ce-4416-b212-f6057ff0aa5d",
   "metadata": {},
   "outputs": [
    {
     "data": {
      "text/plain": [
       "(60000, 28, 28, 1, 1)"
      ]
     },
     "execution_count": 25,
     "metadata": {},
     "output_type": "execute_result"
    }
   ],
   "source": [
    "X_train.shape"
   ]
  },
  {
   "cell_type": "code",
   "execution_count": 26,
   "id": "fd012e38-adea-4273-b748-8aa911875f94",
   "metadata": {},
   "outputs": [
    {
     "data": {
      "text/plain": [
       "array([0.        , 0.00392157, 0.00784314, 0.01176471, 0.03529412,\n",
       "       0.04313725, 0.05490196, 0.0627451 , 0.07058824, 0.09019608,\n",
       "       0.09411765, 0.09803922, 0.10196078, 0.10588235, 0.11764706,\n",
       "       0.1372549 , 0.14117647, 0.15294118, 0.16862745, 0.17647059,\n",
       "       0.18039216, 0.19215686, 0.21568627, 0.21960784, 0.25098039,\n",
       "       0.25882353, 0.2745098 , 0.30588235, 0.31372549, 0.31764706,\n",
       "       0.32156863, 0.35294118, 0.36470588, 0.36862745, 0.41960784,\n",
       "       0.42352941, 0.44705882, 0.46666667, 0.49411765, 0.49803922,\n",
       "       0.50980392, 0.51764706, 0.52156863, 0.52941176, 0.53333333,\n",
       "       0.54509804, 0.58039216, 0.58823529, 0.60392157, 0.61176471,\n",
       "       0.62745098, 0.65098039, 0.66666667, 0.67058824, 0.6745098 ,\n",
       "       0.68627451, 0.71372549, 0.71764706, 0.72941176, 0.73333333,\n",
       "       0.74509804, 0.76470588, 0.77647059, 0.78823529, 0.80392157,\n",
       "       0.81176471, 0.83137255, 0.83529412, 0.85882353, 0.86666667,\n",
       "       0.88235294, 0.88627451, 0.89803922, 0.93333333, 0.94117647,\n",
       "       0.94509804, 0.94901961, 0.95686275, 0.96862745, 0.97647059,\n",
       "       0.98039216, 0.98431373, 0.98823529, 0.99215686, 1.        ])"
      ]
     },
     "execution_count": 26,
     "metadata": {},
     "output_type": "execute_result"
    }
   ],
   "source": [
    "np.unique(X_train[0])"
   ]
  },
  {
   "cell_type": "code",
   "execution_count": null,
   "id": "cd1ee1a0-c34e-4cfb-8fa6-96f00e1051da",
   "metadata": {},
   "outputs": [],
   "source": []
  }
 ],
 "metadata": {
  "kernelspec": {
   "display_name": "Python 3 (ipykernel)",
   "language": "python",
   "name": "python3"
  },
  "language_info": {
   "codemirror_mode": {
    "name": "ipython",
    "version": 3
   },
   "file_extension": ".py",
   "mimetype": "text/x-python",
   "name": "python",
   "nbconvert_exporter": "python",
   "pygments_lexer": "ipython3",
   "version": "3.8.12"
  }
 },
 "nbformat": 4,
 "nbformat_minor": 5
}
