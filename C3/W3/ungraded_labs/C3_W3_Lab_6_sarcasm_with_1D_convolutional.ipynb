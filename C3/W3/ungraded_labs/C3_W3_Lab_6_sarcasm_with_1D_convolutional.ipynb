{
 "cells": [
  {
   "cell_type": "markdown",
   "metadata": {},
   "source": [
    "<a href=\"https://colab.research.google.com/github/https-deeplearning-ai/tensorflow-1-public/blob/master/C3/W3/ungraded_labs/C3_W3_Lab_6_sarcasm_with_1D_convolutional.ipynb\" target=\"_parent\"><img src=\"https://colab.research.google.com/assets/colab-badge.svg\" alt=\"Open In Colab\"/></a>"
   ]
  },
  {
   "cell_type": "markdown",
   "metadata": {
    "id": "YEdilk144fzb"
   },
   "source": [
    "# Ungraded Lab: Training a Sarcasm Detection Model using a Convolution Layer\n",
    "\n",
    "You will be doing the same steps here as the previous lab but will be using a convolution layer instead. As usual, try tweaking the parameters and observe how it affects the results. \n"
   ]
  },
  {
   "cell_type": "code",
   "execution_count": 1,
   "metadata": {},
   "outputs": [],
   "source": [
    "# Install this package to use Colab's GPU for training\n",
    "# !apt install --allow-change-held-packages libcudnn8=8.4.1.50-1+cuda11.6"
   ]
  },
  {
   "cell_type": "markdown",
   "metadata": {
    "id": "pmokcpHc5u1R"
   },
   "source": [
    "## Download the Dataset"
   ]
  },
  {
   "cell_type": "code",
   "execution_count": 2,
   "metadata": {
    "id": "dxezdGoV29Yz"
   },
   "outputs": [
    {
     "name": "stdout",
     "output_type": "stream",
     "text": [
      "--2022-09-09 21:06:14--  https://storage.googleapis.com/tensorflow-1-public/course3/sarcasm.json\n",
      "Resolving storage.googleapis.com (storage.googleapis.com)... 74.125.140.128, 74.125.133.128, 64.233.184.128, ...\n",
      "Connecting to storage.googleapis.com (storage.googleapis.com)|74.125.140.128|:443... connected.\n",
      "HTTP request sent, awaiting response... 200 OK\n",
      "Length: 5643545 (5.4M) [application/json]\n",
      "Saving to: ‘sarcasm.json.2’\n",
      "\n",
      "sarcasm.json.2      100%[===================>]   5.38M  4.04MB/s    in 1.3s    \n",
      "\n",
      "2022-09-09 21:06:16 (4.04 MB/s) - ‘sarcasm.json.2’ saved [5643545/5643545]\n",
      "\n"
     ]
    }
   ],
   "source": [
    "# Download the dataset\n",
    "!wget https://storage.googleapis.com/tensorflow-1-public/course3/sarcasm.json"
   ]
  },
  {
   "cell_type": "code",
   "execution_count": 3,
   "metadata": {
    "id": "BTcGA2Po2_nN"
   },
   "outputs": [],
   "source": [
    "import json\n",
    "\n",
    "# Load the JSON file\n",
    "with open(\"./sarcasm.json\", 'r') as f:\n",
    "    datastore = json.load(f)\n",
    "\n",
    "# Initialize the lists\n",
    "sentences = []\n",
    "labels = []\n",
    "\n",
    "# Collect sentences and labels into the lists\n",
    "for item in datastore:\n",
    "    sentences.append(item['headline'])\n",
    "    labels.append(item['is_sarcastic'])"
   ]
  },
  {
   "cell_type": "code",
   "execution_count": 4,
   "metadata": {},
   "outputs": [
    {
     "name": "stdout",
     "output_type": "stream",
     "text": [
      "the 'roseanne' revival catches up to our thorny political mood, for better and worse 0\n",
      "mom starting to fear son's web series closest thing she will have to grandchild 1\n",
      "boehner just wants wife to listen, not come up with alternative debt-reduction ideas 1\n",
      "j.k. rowling wishes snape happy birthday in the most magical way 0\n"
     ]
    }
   ],
   "source": [
    "for i in range(1, 5):\n",
    "    print(sentences[i], labels[i])"
   ]
  },
  {
   "cell_type": "markdown",
   "metadata": {
    "id": "F2zXSds45s2P"
   },
   "source": [
    "## Split the Dataset"
   ]
  },
  {
   "cell_type": "code",
   "execution_count": 5,
   "metadata": {
    "id": "baDwTn9S3ENB"
   },
   "outputs": [],
   "source": [
    "training_size = 20000\n",
    "\n",
    "# Split the sentences\n",
    "training_sentences = sentences[0:training_size]\n",
    "testing_sentences = sentences[training_size:]\n",
    "\n",
    "# Split the labels\n",
    "training_labels = labels[0:training_size]\n",
    "testing_labels = labels[training_size:]"
   ]
  },
  {
   "cell_type": "markdown",
   "metadata": {
    "id": "NdpLY-or5pTP"
   },
   "source": [
    "## Data preprocessing"
   ]
  },
  {
   "cell_type": "code",
   "execution_count": 6,
   "metadata": {
    "id": "RHjZR4oi3LOq"
   },
   "outputs": [
    {
     "name": "stderr",
     "output_type": "stream",
     "text": [
      "2022-09-09 21:06:17.160114: I tensorflow/core/util/util.cc:169] oneDNN custom operations are on. You may see slightly different numerical results due to floating-point round-off errors from different computation orders. To turn them off, set the environment variable `TF_ENABLE_ONEDNN_OPTS=0`.\n",
      "2022-09-09 21:06:17.165390: W tensorflow/stream_executor/platform/default/dso_loader.cc:64] Could not load dynamic library 'libcudart.so.11.0'; dlerror: libcudart.so.11.0: cannot open shared object file: No such file or directory\n",
      "2022-09-09 21:06:17.165404: I tensorflow/stream_executor/cuda/cudart_stub.cc:29] Ignore above cudart dlerror if you do not have a GPU set up on your machine.\n"
     ]
    }
   ],
   "source": [
    "import numpy as np\n",
    "from tensorflow.keras.preprocessing.text import Tokenizer\n",
    "from tensorflow.keras.preprocessing.sequence import pad_sequences\n",
    "\n",
    "vocab_size = 10000\n",
    "max_length = 120\n",
    "trunc_type='post'\n",
    "padding_type='post'\n",
    "oov_tok = \"<OOV>\"\n",
    "\n",
    "# Initialize the Tokenizer class\n",
    "tokenizer = Tokenizer(num_words=vocab_size, oov_token=oov_tok)\n",
    "\n",
    "# Generate the word index dictionary\n",
    "tokenizer.fit_on_texts(training_sentences)\n",
    "word_index = tokenizer.word_index\n",
    "\n",
    "# Generate and pad the training sequences\n",
    "training_sequences = tokenizer.texts_to_sequences(training_sentences)\n",
    "training_padded = pad_sequences(training_sequences, maxlen=max_length, padding=padding_type, truncating=trunc_type)\n",
    "\n",
    "# Generate and pad the testing sequences\n",
    "testing_sequences = tokenizer.texts_to_sequences(testing_sentences)\n",
    "testing_padded = pad_sequences(testing_sequences, maxlen=max_length, padding=padding_type, truncating=trunc_type)\n",
    "\n",
    "# Convert the labels lists into numpy arrays\n",
    "training_labels = np.array(training_labels)\n",
    "testing_labels = np.array(testing_labels)"
   ]
  },
  {
   "cell_type": "markdown",
   "metadata": {
    "id": "HQBjPv_A5m1x"
   },
   "source": [
    "## Build and Compile the Model"
   ]
  },
  {
   "cell_type": "code",
   "execution_count": 7,
   "metadata": {
    "id": "jGwXGIXvFhXW"
   },
   "outputs": [
    {
     "name": "stdout",
     "output_type": "stream",
     "text": [
      "Model: \"sequential\"\n",
      "_________________________________________________________________\n",
      " Layer (type)                Output Shape              Param #   \n",
      "=================================================================\n",
      " embedding (Embedding)       (None, 120, 16)           160000    \n",
      "                                                                 \n",
      " conv1d (Conv1D)             (None, 116, 128)          10368     \n",
      "                                                                 \n",
      " global_max_pooling1d (Globa  (None, 128)              0         \n",
      " lMaxPooling1D)                                                  \n",
      "                                                                 \n",
      " dense (Dense)               (None, 6)                 774       \n",
      "                                                                 \n",
      " dense_1 (Dense)             (None, 1)                 7         \n",
      "                                                                 \n",
      "=================================================================\n",
      "Total params: 171,149\n",
      "Trainable params: 171,149\n",
      "Non-trainable params: 0\n",
      "_________________________________________________________________\n"
     ]
    },
    {
     "name": "stderr",
     "output_type": "stream",
     "text": [
      "2022-09-09 21:06:20.536462: W tensorflow/stream_executor/platform/default/dso_loader.cc:64] Could not load dynamic library 'libcuda.so.1'; dlerror: libcuda.so.1: cannot open shared object file: No such file or directory\n",
      "2022-09-09 21:06:20.536488: W tensorflow/stream_executor/cuda/cuda_driver.cc:269] failed call to cuInit: UNKNOWN ERROR (303)\n",
      "2022-09-09 21:06:20.536506: I tensorflow/stream_executor/cuda/cuda_diagnostics.cc:156] kernel driver does not appear to be running on this host (lscr): /proc/driver/nvidia/version does not exist\n",
      "2022-09-09 21:06:20.536922: I tensorflow/core/platform/cpu_feature_guard.cc:193] This TensorFlow binary is optimized with oneAPI Deep Neural Network Library (oneDNN) to use the following CPU instructions in performance-critical operations:  AVX2 AVX512F AVX512_VNNI FMA\n",
      "To enable them in other operations, rebuild TensorFlow with the appropriate compiler flags.\n"
     ]
    }
   ],
   "source": [
    "import tensorflow as tf\n",
    "\n",
    "# Parameters\n",
    "embedding_dim = 16\n",
    "filters = 128\n",
    "kernel_size = 5\n",
    "dense_dim = 6\n",
    "\n",
    "# Model Definition with Conv1D\n",
    "model_conv = tf.keras.Sequential([\n",
    "    tf.keras.layers.Embedding(vocab_size, embedding_dim, input_length=max_length),\n",
    "    tf.keras.layers.Conv1D(filters, kernel_size, activation='relu'),\n",
    "    tf.keras.layers.GlobalMaxPooling1D(),\n",
    "    tf.keras.layers.Dense(dense_dim, activation='relu'),\n",
    "    tf.keras.layers.Dense(1, activation='sigmoid')\n",
    "])\n",
    "\n",
    "# Set the training parameters\n",
    "model_conv.compile(loss='binary_crossentropy',optimizer='adam',metrics=['accuracy'])\n",
    "\n",
    "# Print the model summary\n",
    "model_conv.summary()"
   ]
  },
  {
   "cell_type": "markdown",
   "metadata": {
    "id": "PcXC5QG45kM7"
   },
   "source": [
    "## Train the Model"
   ]
  },
  {
   "cell_type": "code",
   "execution_count": 8,
   "metadata": {
    "id": "oB6C55FO3z3q"
   },
   "outputs": [
    {
     "name": "stdout",
     "output_type": "stream",
     "text": [
      "Epoch 1/10\n",
      "625/625 [==============================] - 5s 8ms/step - loss: 0.4380 - accuracy: 0.7842 - val_loss: 0.3546 - val_accuracy: 0.8475\n",
      "Epoch 2/10\n",
      "625/625 [==============================] - 5s 8ms/step - loss: 0.2183 - accuracy: 0.9144 - val_loss: 0.3667 - val_accuracy: 0.8501\n",
      "Epoch 3/10\n",
      "625/625 [==============================] - 5s 7ms/step - loss: 0.1053 - accuracy: 0.9643 - val_loss: 0.4512 - val_accuracy: 0.8414\n",
      "Epoch 4/10\n",
      "625/625 [==============================] - 5s 7ms/step - loss: 0.0440 - accuracy: 0.9873 - val_loss: 0.5939 - val_accuracy: 0.8387\n",
      "Epoch 5/10\n",
      "625/625 [==============================] - 5s 8ms/step - loss: 0.0162 - accuracy: 0.9958 - val_loss: 0.7053 - val_accuracy: 0.8301\n",
      "Epoch 6/10\n",
      "625/625 [==============================] - 5s 7ms/step - loss: 0.0056 - accuracy: 0.9986 - val_loss: 0.8304 - val_accuracy: 0.8317\n",
      "Epoch 7/10\n",
      "625/625 [==============================] - 5s 8ms/step - loss: 0.0025 - accuracy: 0.9995 - val_loss: 0.9122 - val_accuracy: 0.8323\n",
      "Epoch 8/10\n",
      "625/625 [==============================] - 5s 7ms/step - loss: 0.0016 - accuracy: 0.9995 - val_loss: 1.0116 - val_accuracy: 0.8295\n",
      "Epoch 9/10\n",
      "625/625 [==============================] - 5s 7ms/step - loss: 0.0014 - accuracy: 0.9995 - val_loss: 1.0182 - val_accuracy: 0.8323\n",
      "Epoch 10/10\n",
      "625/625 [==============================] - 4s 7ms/step - loss: 0.0013 - accuracy: 0.9996 - val_loss: 1.0604 - val_accuracy: 0.8305\n"
     ]
    }
   ],
   "source": [
    "NUM_EPOCHS = 10\n",
    "\n",
    "# Train the model\n",
    "history_conv = model_conv.fit(training_padded, training_labels, epochs=NUM_EPOCHS, validation_data=(testing_padded, testing_labels))"
   ]
  },
  {
   "cell_type": "code",
   "execution_count": 9,
   "metadata": {
    "id": "g9DC6dmLF8DC"
   },
   "outputs": [
    {
     "data": {
      "image/png": "[encoded data removed]",
      "text/plain": [
       "<Figure size 640x480 with 1 Axes>"
      ]
     },
     "metadata": {},
     "output_type": "display_data"
    },
    {
     "data": {
      "image/png": "[encoded data removed]",
      "text/plain": [
       "<Figure size 640x480 with 1 Axes>"
      ]
     },
     "metadata": {},
     "output_type": "display_data"
    }
   ],
   "source": [
    "import matplotlib.pyplot as plt\n",
    "\n",
    "# Plot Utility\n",
    "def plot_graphs(history, string):\n",
    "  plt.plot(history.history[string])\n",
    "  plt.plot(history.history['val_'+string])\n",
    "  plt.xlabel(\"Epochs\")\n",
    "  plt.ylabel(string)\n",
    "  plt.legend([string, 'val_'+string])\n",
    "  plt.show()\n",
    "\n",
    "# Plot the accuracy and loss history\n",
    "plot_graphs(history_conv, 'accuracy')\n",
    "plot_graphs(history_conv, 'loss')"
   ]
  },
  {
   "cell_type": "code",
   "execution_count": 10,
   "metadata": {},
   "outputs": [
    {
     "name": "stdout",
     "output_type": "stream",
     "text": [
      "1/1 [==============================] - 0s 110ms/step\n",
      "I really really love my mother, but she shits me to tears and thinks I will die alone is not sarcastic. prob =  0.000\n",
      "The only thing that I will have is a foot in the grave is not sarcastic. prob =  0.000\n",
      "boehner just wants wife to listen, not come up with alternative debt-reduction ideas is sarcastic. prob =  1.000\n",
      "i don't want you to solve my problems, i want you to listen to me is not sarcastic. prob =  0.000\n",
      "I’m not saying I hate you, what I’m saying is that you are literally the Monday of my life. is not sarcastic. prob =  0.000\n",
      "I am busy right now, can I ignore you some other time? is sarcastic. prob =  1.000\n",
      "It’s okay if you don’t like me. Not everyone has good taste. is sarcastic. prob =  1.000\n",
      "If you find me offensive. Then I suggest you quit finding me. is not sarcastic. prob =  0.000\n"
     ]
    }
   ],
   "source": [
    "# Predict\n",
    "\n",
    "predict_string = ['I really really love my mother, but she shits me to tears and thinks I will die alone', \n",
    "                  'The only thing that I will have is a foot in the grave', \n",
    "                  'boehner just wants wife to listen, not come up with alternative debt-reduction ideas',\n",
    "                 \"i don't want you to solve my problems, i want you to listen to me\",\n",
    "                 \"I’m not saying I hate you, what I’m saying is that you are literally the Monday of my life.\",\n",
    "                  \"I am busy right now, can I ignore you some other time?\",\n",
    "                  \"It’s okay if you don’t like me. Not everyone has good taste.\",\n",
    "                  \"If you find me offensive. Then I suggest you quit finding me.\",\n",
    "                 ]\n",
    "\n",
    "predict_sequences = tokenizer.texts_to_sequences(predict_string)\n",
    "predict_padded = pad_sequences(predict_sequences, maxlen=max_length, padding=padding_type, truncating=trunc_type)\n",
    "\n",
    "predicted = model_conv.predict(predict_padded)\n",
    "\n",
    "for i, prob in enumerate(predicted):\n",
    "    if prob > 0.5:\n",
    "        print(f'{predict_string[i]} is sarcastic. prob = {prob[0]: .3f}')\n",
    "    else:\n",
    "        print(f'{predict_string[i]} is not sarcastic. prob = {prob[0]: .3f}')"
   ]
  },
  {
   "cell_type": "code",
   "execution_count": 11,
   "metadata": {},
   "outputs": [
    {
     "ename": "SyntaxError",
     "evalue": "invalid syntax (1235331270.py, line 1)",
     "output_type": "error",
     "traceback": [
      "\u001b[0;36m  Cell \u001b[0;32mIn [11], line 1\u001b[0;36m\u001b[0m\n\u001b[0;31m    for\u001b[0m\n\u001b[0m        ^\u001b[0m\n\u001b[0;31mSyntaxError\u001b[0m\u001b[0;31m:\u001b[0m invalid syntax\n"
     ]
    }
   ],
   "source": [
    "for "
   ]
  }
 ],
 "metadata": {
  "colab": {
   "collapsed_sections": [],
   "name": "C3_W3_Lab_6_sarcasm_with_1D_convolutional.ipynb",
   "private_outputs": true,
   "provenance": []
  },
  "kernelspec": {
   "display_name": "Python 3 (ipykernel)",
   "language": "python",
   "name": "python3"
  },
  "language_info": {
   "codemirror_mode": {
    "name": "ipython",
    "version": 3
   },
   "file_extension": ".py",
   "mimetype": "text/x-python",
   "name": "python",
   "nbconvert_exporter": "python",
   "pygments_lexer": "ipython3",
   "version": "3.8.12"
  }
 },
 "nbformat": 4,
 "nbformat_minor": 4
}
